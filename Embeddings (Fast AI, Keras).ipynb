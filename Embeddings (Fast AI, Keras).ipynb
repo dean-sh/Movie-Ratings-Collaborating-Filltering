{
  "nbformat": 4,
  "nbformat_minor": 0,
  "metadata": {
    "colab": {
      "name": "Copy of MovieLens Project.ipynb",
      "version": "0.3.2",
      "provenance": [],
      "collapsed_sections": [
        "VLyHpP9GcNI8",
        "ZecYlb32aPRG",
        "7Gnr6yC9VqxW",
        "jYBWeAsAbPS3",
        "3Kaamk135WaW",
        "IiuFHrce044O",
        "WwawVY_MeCDi",
        "SdbppJj0seHC",
        "PHwhGmC5YtGj",
        "EfLvsj9ax5Bp",
        "9CMimleIm8xp",
        "wqAAa_8JvpVi",
        "kbW3AkTRxKfO",
        "ZdpQw7tNxB23",
        "NlyBl-d00vbS",
        "vbBp9pYqy_C8",
        "WoOWizoNHuWC",
        "gta8xQuwg0_l",
        "2Z4dkFEMIT0i",
        "aKbSMddyMfs7",
        "YJl1ooI9_MfH",
        "Nb7OxcMvmFpU",
        "HRZ_GFV1mFpU",
        "EvIXZS7b6KBx",
        "4a40rehOQdb1",
        "zV0mnIBb40H6",
        "V9ZRdSVBITP1",
        "mzWcIK2Donh-",
        "jXXbIrp8oniV",
        "RPN0p-gZBmHv"
      ],
      "machine_shape": "hm",
      "include_colab_link": true
    },
    "language_info": {
      "codemirror_mode": {
        "name": "ipython",
        "version": 3
      },
      "file_extension": ".py",
      "mimetype": "text/x-python",
      "name": "python",
      "nbconvert_exporter": "python",
      "pygments_lexer": "ipython3",
      "version": "3.7.3"
    },
    "kernelspec": {
      "name": "python3",
      "display_name": "Python 3"
    },
    "accelerator": "GPU"
  },
  "cells": [
    {
      "cell_type": "markdown",
      "metadata": {
        "id": "view-in-github",
        "colab_type": "text"
      },
      "source": [
        "<a href=\"https://colab.research.google.com/github/dean-sh/Movie-Ratings-Collaborating-Filltering/blob/master/Embeddings%20(Fast%20AI%2C%20Keras).ipynb\" target=\"_parent\"><img src=\"https://colab.research.google.com/assets/colab-badge.svg\" alt=\"Open In Colab\"/></a>"
      ]
    },
    {
      "cell_type": "markdown",
      "metadata": {
        "id": "AI8iUPuAgW34",
        "colab_type": "text"
      },
      "source": [
        "MovieLens Recommendations - Embeddings\n",
        "=============================================\n",
        "## Dean Shabi, Dedi Kovatch, July 2019\n",
        "## Final Project for TCDS - Technion Data Science Specialization\n",
        "\n",
        "MovieLens data sets were collected by the GroupLens Research Project\n",
        "at the University of Minnesota.\n",
        " \n",
        "This data set consists of:\n",
        "\t* 100,000 ratings (1-5) from 943 users on 1682 movies. \n",
        "\t* Each user has rated at least 20 movies. \n",
        "        * Simple demographic info for the users (age, gender, occupation, zip)\n",
        "\n",
        "The data was collected through the MovieLens web site\n",
        "(movielens.umn.edu) during the seven-month period from September 19th, \n",
        "1997 through April 22nd, 1998. This data has been cleaned up - users\n",
        "who had less than 20 ratings or did not have complete demographic\n",
        "information were removed from this data set. Detailed descriptions of\n",
        "the data file can be found at the end of this file.\n"
      ]
    },
    {
      "cell_type": "markdown",
      "metadata": {
        "id": "VLyHpP9GcNI8",
        "colab_type": "text"
      },
      "source": [
        "## Data Description\n",
        "\n"
      ]
    },
    {
      "cell_type": "markdown",
      "metadata": {
        "id": "79B5aQBncSJn",
        "colab_type": "text"
      },
      "source": [
        "\n",
        "Here are brief descriptions of the data.\n",
        "\n",
        "ml-data.tar.gz   -- Compressed tar file.  To rebuild the u data files do this:\n",
        "                gunzip ml-data.tar.gz\n",
        "                tar xvf ml-data.tar\n",
        "                mku.sh\n",
        "\n",
        "u.data     -- The full u data set, 100000 ratings by 943 users on 1682 items.\n",
        "              Each user has rated at least 20 movies.  Users and items are\n",
        "              numbered consecutively from 1.  The data is randomly\n",
        "              ordered. This is a tab separated list of \n",
        "\t         user id | item id | rating | timestamp. \n",
        "              The time stamps are unix seconds since 1/1/1970 UTC   \n",
        "\n",
        "u.info     -- The number of users, items, and ratings in the u data set.\n",
        "\n",
        "u.item     -- Information about the items (movies); this is a tab separated\n",
        "              list of\n",
        "              movie id | movie title | release date | video release date |\n",
        "              IMDb URL | unknown | Action | Adventure | Animation |\n",
        "              Children's | Comedy | Crime | Documentary | Drama | Fantasy |\n",
        "              Film-Noir | Horror | Musical | Mystery | Romance | Sci-Fi |\n",
        "              Thriller | War | Western |\n",
        "              The last 19 fields are the genres, a 1 indicates the movie\n",
        "              is of that genre, a 0 indicates it is not; movies can be in\n",
        "              several genres at once.\n",
        "              The movie ids are the ones used in the u.data data set.\n",
        "\n",
        "u.genre    -- A list of the genres.\n",
        "\n",
        "u.user     -- Demographic information about the users; this is a tab\n",
        "              separated list of\n",
        "              user id | age | gender | occupation | zip code\n",
        "              The user ids are the ones used in the u.data data set.\n",
        "\n",
        "u.occupation -- A list of the occupations.\n",
        "\n",
        "u1.base    -- The data sets u1.base and u1.test through u5.base and u5.test\n",
        "u1.test       are 80%/20% splits of the u data into training and test data.\n",
        "u2.base       Each of u1, ..., u5 have disjoint test sets; this if for\n",
        "u2.test       5 fold cross validation (where you repeat your experiment\n",
        "u3.base       with each training and test set and average the results).\n",
        "u3.test       These data sets can be generated from u.data by mku.sh.\n",
        "u4.base\n",
        "u4.test\n",
        "u5.base\n",
        "u5.test\n",
        "\n",
        "ua.base    -- The data sets ua.base, ua.test, ub.base, and ub.test\n",
        "ua.test       split the u data into a training set and a test set with\n",
        "ub.base       exactly 10 ratings per user in the test set.  The sets\n",
        "ub.test       ua.test and ub.test are disjoint.  These data sets can\n",
        "              be generated from u.data by mku.sh.\n",
        "\n",
        "allbut.pl  -- The script that generates training and test sets where\n",
        "              all but n of a users ratings are in the training data.\n",
        "\n",
        "mku.sh     -- A shell script to generate all the u data sets from u.data."
      ]
    },
    {
      "cell_type": "markdown",
      "metadata": {
        "id": "ZecYlb32aPRG",
        "colab_type": "text"
      },
      "source": [
        "## Imports\n",
        "\n",
        "\n"
      ]
    },
    {
      "cell_type": "code",
      "metadata": {
        "colab_type": "code",
        "id": "eSXwQhcbxpTA",
        "colab": {}
      },
      "source": [
        "import numpy as np\n",
        "import pandas as pd\n",
        "import collections\n",
        "import seaborn as sns\n",
        "%matplotlib inline\n",
        "# from mpl_toolkits.mplot3d import Axes3D\n",
        "from IPython import display\n",
        "from matplotlib import pyplot as plt\n",
        "import sklearn\n",
        "import sklearn.manifold\n",
        "# import tensorflow as tf\n",
        "# tf.logging.set_verbosity(tf.logging.ERROR)\n",
        "\n",
        "# # Add some convenience functions to Pandas DataFrame.\n",
        "# pd.options.display.max_rows = 10\n",
        "# pd.options.display.float_format = '{:.3f}'.format\n",
        "\n",
        "\n",
        "\n",
        "# # Install Altair and activate its colab renderer.\n",
        "# print(\"Installing Altair...\")\n",
        "# !pip install git+git://github.com/altair-viz/altair.git\n",
        "# import altair as alt\n",
        "# alt.data_transformers.enable('default', max_rows=None)\n",
        "# alt.renderers.enable('colab')\n",
        "# print(\"Done installing Altair.\")\n",
        "\n",
        "# # Install spreadsheets and import authentication module.\n",
        "# USER_RATINGS = False\n",
        "# !pip install --upgrade -q gspread\n",
        "# from google.colab import auth\n",
        "# import gspread\n",
        "# from oauth2client.client import GoogleCredentials"
      ],
      "execution_count": 0,
      "outputs": []
    },
    {
      "cell_type": "markdown",
      "metadata": {
        "id": "7Gnr6yC9VqxW",
        "colab_type": "text"
      },
      "source": [
        "## **Importing dataset, preprocessing**\n",
        "\n",
        "\n"
      ]
    },
    {
      "cell_type": "code",
      "metadata": {
        "id": "gq9LYL4ef_Ms",
        "colab_type": "code",
        "colab": {}
      },
      "source": [
        "# download the MovieLens Data, and create DataFrames containing movies, users, and ratings.\n",
        "\n",
        "print(\"Downloading movielens data...\")\n",
        "import zipfile\n",
        "import urllib.request\n",
        "\n",
        "urllib.request.urlretrieve(\"http://files.grouplens.org/datasets/movielens/ml-100k.zip\", \"movielens.zip\")\n",
        "zip_ref = zipfile.ZipFile('movielens.zip', \"r\")\n",
        "zip_ref.extractall()\n",
        "print(\"Done. Dataset contains:\")\n",
        "print(zip_ref.read('ml-100k/u.info'))"
      ],
      "execution_count": 0,
      "outputs": []
    },
    {
      "cell_type": "code",
      "metadata": {
        "id": "Ny6Op3qUe3bc",
        "colab_type": "code",
        "colab": {}
      },
      "source": [
        "# Load each data set (users, movies, and ratings).\n",
        "users_cols = ['user_id', 'age', 'sex', 'occupation', 'zip_code']\n",
        "users = pd.read_csv(\n",
        "    'ml-100k/u.user', sep='|', names=users_cols, encoding='latin-1')\n",
        "\n",
        "ratings_cols = ['user_id', 'movie_id', 'rating', 'unix_timestamp']\n",
        "ratings = pd.read_csv(\n",
        "    'ml-100k/u.data', sep='\\t', names=ratings_cols, encoding='latin-1')\n",
        "\n",
        "# The movies file contains a binary feature for each genre.\n",
        "genre_cols = [\n",
        "    \"genre_unknown\", \"Action\", \"Adventure\", \"Animation\", \"Children\", \"Comedy\",\n",
        "    \"Crime\", \"Documentary\", \"Drama\", \"Fantasy\", \"Film-Noir\", \"Horror\",\n",
        "    \"Musical\", \"Mystery\", \"Romance\", \"Sci-Fi\", \"Thriller\", \"War\", \"Western\"\n",
        "]\n",
        "movies_cols = [\n",
        "    'movie_id', 'title', 'release_date', \"video_release_date\", \"imdb_url\"] + genre_cols\n",
        "\n",
        "movies = pd.read_csv(\n",
        "    'ml-100k/u.item', sep='|', names=movies_cols, encoding='latin-1')\n"
      ],
      "execution_count": 0,
      "outputs": []
    },
    {
      "cell_type": "markdown",
      "metadata": {
        "id": "dXNpqJsDgeqj",
        "colab_type": "text"
      },
      "source": [
        "Some Preproccessing"
      ]
    },
    {
      "cell_type": "code",
      "metadata": {
        "id": "xjlkpHekgXyq",
        "colab_type": "code",
        "colab": {}
      },
      "source": [
        "# Since the ids start at 1, we shift them to start at 0.\n",
        "users[\"user_id\"] = users[\"user_id\"].apply(lambda x: str(x-1))\n",
        "movies[\"movie_id\"] = movies[\"movie_id\"].apply(lambda x: str(x-1))\n",
        "movies[\"year\"] = movies['release_date'].apply(lambda x: str(x).split('-')[-1])\n",
        "ratings[\"movie_id\"] = ratings[\"movie_id\"].apply(lambda x: str(x-1))\n",
        "ratings[\"user_id\"] = ratings[\"user_id\"].apply(lambda x: str(x-1))\n",
        "ratings[\"rating\"] = ratings[\"rating\"].apply(lambda x: float(x))\n",
        "\n",
        "# Compute the number of movies to which a genre is assigned.\n",
        "genre_occurences = movies[genre_cols].sum().to_dict()\n",
        "\n",
        "# Since some movies can belong to more than one genre, we create different\n",
        "# 'genre' columns as follows:\n",
        "# - all_genres: all the active genres of the movie.\n",
        "# - genre: randomly sampled from the active genres.\n",
        "def mark_genres(movies, genres):\n",
        "    def get_random_genre(gs):\n",
        "        active = [genre for genre, g in zip(genres, gs) if g==1]\n",
        "        if len(active) == 0:\n",
        "            return 'Other'\n",
        "        return np.random.choice(active)\n",
        "    def get_all_genres(gs):\n",
        "        active = [genre for genre, g in zip(genres, gs) if g==1]\n",
        "        if len(active) == 0:\n",
        "            return 'Other'\n",
        "        return '-'.join(active)\n",
        "    movies['genre'] = [\n",
        "        get_random_genre(gs) for gs in zip(*[movies[genre] for genre in genres])]\n",
        "    movies['all_genres'] = [\n",
        "        get_all_genres(gs) for gs in zip(*[movies[genre] for genre in genres])]\n",
        "\n",
        "mark_genres(movies, genre_cols)"
      ],
      "execution_count": 0,
      "outputs": []
    },
    {
      "cell_type": "code",
      "metadata": {
        "id": "apgLczpJgWcf",
        "colab_type": "code",
        "colab": {}
      },
      "source": [
        "# Create one merged DataFrame containing all the movielens data.\n",
        "movielens = ratings.merge(movies, on='movie_id').merge(users, on='user_id')\n",
        "\n",
        "# Utility to split the data into training and test sets.\n",
        "def split_dataframe(df, holdout_fraction=0.1):\n",
        "    \"\"\"Splits a DataFrame into training and test sets.\n",
        "    Args:\n",
        "    df: a dataframe.\n",
        "    holdout_fraction: fraction of dataframe rows to use in the test set.\n",
        "    Returns:\n",
        "    train: dataframe for training\n",
        "    test: dataframe for testing\n",
        "    \"\"\"\n",
        "    test = df.sample(frac=holdout_fraction, replace=False)\n",
        "    train = df[~df.index.isin(test.index)]\n",
        "    return train, test"
      ],
      "execution_count": 0,
      "outputs": []
    },
    {
      "cell_type": "code",
      "metadata": {
        "id": "XJMhuEXXgXdB",
        "colab_type": "code",
        "outputId": "4e49f141-5aa3-4bf6-84f2-68c491c77716",
        "colab": {
          "base_uri": "https://localhost:8080/"
        }
      },
      "source": [
        "movies.head()"
      ],
      "execution_count": 0,
      "outputs": [
        {
          "output_type": "execute_result",
          "data": {
            "text/html": [
              "<div>\n",
              "<style scoped>\n",
              "    .dataframe tbody tr th:only-of-type {\n",
              "        vertical-align: middle;\n",
              "    }\n",
              "\n",
              "    .dataframe tbody tr th {\n",
              "        vertical-align: top;\n",
              "    }\n",
              "\n",
              "    .dataframe thead th {\n",
              "        text-align: right;\n",
              "    }\n",
              "</style>\n",
              "<table border=\"1\" class=\"dataframe\">\n",
              "  <thead>\n",
              "    <tr style=\"text-align: right;\">\n",
              "      <th></th>\n",
              "      <th>movie_id</th>\n",
              "      <th>title</th>\n",
              "      <th>release_date</th>\n",
              "      <th>video_release_date</th>\n",
              "      <th>imdb_url</th>\n",
              "      <th>genre_unknown</th>\n",
              "      <th>Action</th>\n",
              "      <th>Adventure</th>\n",
              "      <th>Animation</th>\n",
              "      <th>Children</th>\n",
              "      <th>Comedy</th>\n",
              "      <th>Crime</th>\n",
              "      <th>Documentary</th>\n",
              "      <th>Drama</th>\n",
              "      <th>Fantasy</th>\n",
              "      <th>Film-Noir</th>\n",
              "      <th>Horror</th>\n",
              "      <th>Musical</th>\n",
              "      <th>Mystery</th>\n",
              "      <th>Romance</th>\n",
              "      <th>Sci-Fi</th>\n",
              "      <th>Thriller</th>\n",
              "      <th>War</th>\n",
              "      <th>Western</th>\n",
              "      <th>year</th>\n",
              "      <th>genre</th>\n",
              "      <th>all_genres</th>\n",
              "    </tr>\n",
              "  </thead>\n",
              "  <tbody>\n",
              "    <tr>\n",
              "      <th>0</th>\n",
              "      <td>0</td>\n",
              "      <td>Toy Story (1995)</td>\n",
              "      <td>01-Jan-1995</td>\n",
              "      <td>NaN</td>\n",
              "      <td>http://us.imdb.com/M/title-exact?Toy%20Story%2...</td>\n",
              "      <td>0</td>\n",
              "      <td>0</td>\n",
              "      <td>0</td>\n",
              "      <td>1</td>\n",
              "      <td>1</td>\n",
              "      <td>1</td>\n",
              "      <td>0</td>\n",
              "      <td>0</td>\n",
              "      <td>0</td>\n",
              "      <td>0</td>\n",
              "      <td>0</td>\n",
              "      <td>0</td>\n",
              "      <td>0</td>\n",
              "      <td>0</td>\n",
              "      <td>0</td>\n",
              "      <td>0</td>\n",
              "      <td>0</td>\n",
              "      <td>0</td>\n",
              "      <td>0</td>\n",
              "      <td>1995</td>\n",
              "      <td>Comedy</td>\n",
              "      <td>Animation-Children-Comedy</td>\n",
              "    </tr>\n",
              "    <tr>\n",
              "      <th>1</th>\n",
              "      <td>1</td>\n",
              "      <td>GoldenEye (1995)</td>\n",
              "      <td>01-Jan-1995</td>\n",
              "      <td>NaN</td>\n",
              "      <td>http://us.imdb.com/M/title-exact?GoldenEye%20(...</td>\n",
              "      <td>0</td>\n",
              "      <td>1</td>\n",
              "      <td>1</td>\n",
              "      <td>0</td>\n",
              "      <td>0</td>\n",
              "      <td>0</td>\n",
              "      <td>0</td>\n",
              "      <td>0</td>\n",
              "      <td>0</td>\n",
              "      <td>0</td>\n",
              "      <td>0</td>\n",
              "      <td>0</td>\n",
              "      <td>0</td>\n",
              "      <td>0</td>\n",
              "      <td>0</td>\n",
              "      <td>0</td>\n",
              "      <td>1</td>\n",
              "      <td>0</td>\n",
              "      <td>0</td>\n",
              "      <td>1995</td>\n",
              "      <td>Adventure</td>\n",
              "      <td>Action-Adventure-Thriller</td>\n",
              "    </tr>\n",
              "    <tr>\n",
              "      <th>2</th>\n",
              "      <td>2</td>\n",
              "      <td>Four Rooms (1995)</td>\n",
              "      <td>01-Jan-1995</td>\n",
              "      <td>NaN</td>\n",
              "      <td>http://us.imdb.com/M/title-exact?Four%20Rooms%...</td>\n",
              "      <td>0</td>\n",
              "      <td>0</td>\n",
              "      <td>0</td>\n",
              "      <td>0</td>\n",
              "      <td>0</td>\n",
              "      <td>0</td>\n",
              "      <td>0</td>\n",
              "      <td>0</td>\n",
              "      <td>0</td>\n",
              "      <td>0</td>\n",
              "      <td>0</td>\n",
              "      <td>0</td>\n",
              "      <td>0</td>\n",
              "      <td>0</td>\n",
              "      <td>0</td>\n",
              "      <td>0</td>\n",
              "      <td>1</td>\n",
              "      <td>0</td>\n",
              "      <td>0</td>\n",
              "      <td>1995</td>\n",
              "      <td>Thriller</td>\n",
              "      <td>Thriller</td>\n",
              "    </tr>\n",
              "    <tr>\n",
              "      <th>3</th>\n",
              "      <td>3</td>\n",
              "      <td>Get Shorty (1995)</td>\n",
              "      <td>01-Jan-1995</td>\n",
              "      <td>NaN</td>\n",
              "      <td>http://us.imdb.com/M/title-exact?Get%20Shorty%...</td>\n",
              "      <td>0</td>\n",
              "      <td>1</td>\n",
              "      <td>0</td>\n",
              "      <td>0</td>\n",
              "      <td>0</td>\n",
              "      <td>1</td>\n",
              "      <td>0</td>\n",
              "      <td>0</td>\n",
              "      <td>1</td>\n",
              "      <td>0</td>\n",
              "      <td>0</td>\n",
              "      <td>0</td>\n",
              "      <td>0</td>\n",
              "      <td>0</td>\n",
              "      <td>0</td>\n",
              "      <td>0</td>\n",
              "      <td>0</td>\n",
              "      <td>0</td>\n",
              "      <td>0</td>\n",
              "      <td>1995</td>\n",
              "      <td>Comedy</td>\n",
              "      <td>Action-Comedy-Drama</td>\n",
              "    </tr>\n",
              "    <tr>\n",
              "      <th>4</th>\n",
              "      <td>4</td>\n",
              "      <td>Copycat (1995)</td>\n",
              "      <td>01-Jan-1995</td>\n",
              "      <td>NaN</td>\n",
              "      <td>http://us.imdb.com/M/title-exact?Copycat%20(1995)</td>\n",
              "      <td>0</td>\n",
              "      <td>0</td>\n",
              "      <td>0</td>\n",
              "      <td>0</td>\n",
              "      <td>0</td>\n",
              "      <td>0</td>\n",
              "      <td>1</td>\n",
              "      <td>0</td>\n",
              "      <td>1</td>\n",
              "      <td>0</td>\n",
              "      <td>0</td>\n",
              "      <td>0</td>\n",
              "      <td>0</td>\n",
              "      <td>0</td>\n",
              "      <td>0</td>\n",
              "      <td>0</td>\n",
              "      <td>1</td>\n",
              "      <td>0</td>\n",
              "      <td>0</td>\n",
              "      <td>1995</td>\n",
              "      <td>Crime</td>\n",
              "      <td>Crime-Drama-Thriller</td>\n",
              "    </tr>\n",
              "  </tbody>\n",
              "</table>\n",
              "</div>"
            ],
            "text/plain": [
              "  movie_id              title  ...      genre                 all_genres\n",
              "0        0   Toy Story (1995)  ...     Comedy  Animation-Children-Comedy\n",
              "1        1   GoldenEye (1995)  ...  Adventure  Action-Adventure-Thriller\n",
              "2        2  Four Rooms (1995)  ...   Thriller                   Thriller\n",
              "3        3  Get Shorty (1995)  ...     Comedy        Action-Comedy-Drama\n",
              "4        4     Copycat (1995)  ...      Crime       Crime-Drama-Thriller\n",
              "\n",
              "[5 rows x 27 columns]"
            ]
          },
          "metadata": {
            "tags": []
          },
          "execution_count": 6
        }
      ]
    },
    {
      "cell_type": "code",
      "metadata": {
        "id": "MgCRtomqgXHp",
        "colab_type": "code",
        "outputId": "f890e6f0-1681-42fb-cd98-4417a0abb50a",
        "colab": {
          "base_uri": "https://localhost:8080/"
        }
      },
      "source": [
        "users.head()"
      ],
      "execution_count": 0,
      "outputs": [
        {
          "output_type": "execute_result",
          "data": {
            "text/html": [
              "<div>\n",
              "<style scoped>\n",
              "    .dataframe tbody tr th:only-of-type {\n",
              "        vertical-align: middle;\n",
              "    }\n",
              "\n",
              "    .dataframe tbody tr th {\n",
              "        vertical-align: top;\n",
              "    }\n",
              "\n",
              "    .dataframe thead th {\n",
              "        text-align: right;\n",
              "    }\n",
              "</style>\n",
              "<table border=\"1\" class=\"dataframe\">\n",
              "  <thead>\n",
              "    <tr style=\"text-align: right;\">\n",
              "      <th></th>\n",
              "      <th>user_id</th>\n",
              "      <th>age</th>\n",
              "      <th>sex</th>\n",
              "      <th>occupation</th>\n",
              "      <th>zip_code</th>\n",
              "    </tr>\n",
              "  </thead>\n",
              "  <tbody>\n",
              "    <tr>\n",
              "      <th>0</th>\n",
              "      <td>0</td>\n",
              "      <td>24</td>\n",
              "      <td>M</td>\n",
              "      <td>technician</td>\n",
              "      <td>85711</td>\n",
              "    </tr>\n",
              "    <tr>\n",
              "      <th>1</th>\n",
              "      <td>1</td>\n",
              "      <td>53</td>\n",
              "      <td>F</td>\n",
              "      <td>other</td>\n",
              "      <td>94043</td>\n",
              "    </tr>\n",
              "    <tr>\n",
              "      <th>2</th>\n",
              "      <td>2</td>\n",
              "      <td>23</td>\n",
              "      <td>M</td>\n",
              "      <td>writer</td>\n",
              "      <td>32067</td>\n",
              "    </tr>\n",
              "    <tr>\n",
              "      <th>3</th>\n",
              "      <td>3</td>\n",
              "      <td>24</td>\n",
              "      <td>M</td>\n",
              "      <td>technician</td>\n",
              "      <td>43537</td>\n",
              "    </tr>\n",
              "    <tr>\n",
              "      <th>4</th>\n",
              "      <td>4</td>\n",
              "      <td>33</td>\n",
              "      <td>F</td>\n",
              "      <td>other</td>\n",
              "      <td>15213</td>\n",
              "    </tr>\n",
              "  </tbody>\n",
              "</table>\n",
              "</div>"
            ],
            "text/plain": [
              "  user_id  age sex  occupation zip_code\n",
              "0       0   24   M  technician    85711\n",
              "1       1   53   F       other    94043\n",
              "2       2   23   M      writer    32067\n",
              "3       3   24   M  technician    43537\n",
              "4       4   33   F       other    15213"
            ]
          },
          "metadata": {
            "tags": []
          },
          "execution_count": 7
        }
      ]
    },
    {
      "cell_type": "code",
      "metadata": {
        "id": "UHVdwsCBgWyl",
        "colab_type": "code",
        "outputId": "eb7bac9f-29b5-467c-ba41-c41603ccd7a6",
        "colab": {
          "base_uri": "https://localhost:8080/"
        }
      },
      "source": [
        "ratings.head()"
      ],
      "execution_count": 0,
      "outputs": [
        {
          "output_type": "execute_result",
          "data": {
            "text/html": [
              "<div>\n",
              "<style scoped>\n",
              "    .dataframe tbody tr th:only-of-type {\n",
              "        vertical-align: middle;\n",
              "    }\n",
              "\n",
              "    .dataframe tbody tr th {\n",
              "        vertical-align: top;\n",
              "    }\n",
              "\n",
              "    .dataframe thead th {\n",
              "        text-align: right;\n",
              "    }\n",
              "</style>\n",
              "<table border=\"1\" class=\"dataframe\">\n",
              "  <thead>\n",
              "    <tr style=\"text-align: right;\">\n",
              "      <th></th>\n",
              "      <th>user_id</th>\n",
              "      <th>movie_id</th>\n",
              "      <th>rating</th>\n",
              "      <th>unix_timestamp</th>\n",
              "    </tr>\n",
              "  </thead>\n",
              "  <tbody>\n",
              "    <tr>\n",
              "      <th>0</th>\n",
              "      <td>195</td>\n",
              "      <td>241</td>\n",
              "      <td>3.0</td>\n",
              "      <td>881250949</td>\n",
              "    </tr>\n",
              "    <tr>\n",
              "      <th>1</th>\n",
              "      <td>185</td>\n",
              "      <td>301</td>\n",
              "      <td>3.0</td>\n",
              "      <td>891717742</td>\n",
              "    </tr>\n",
              "    <tr>\n",
              "      <th>2</th>\n",
              "      <td>21</td>\n",
              "      <td>376</td>\n",
              "      <td>1.0</td>\n",
              "      <td>878887116</td>\n",
              "    </tr>\n",
              "    <tr>\n",
              "      <th>3</th>\n",
              "      <td>243</td>\n",
              "      <td>50</td>\n",
              "      <td>2.0</td>\n",
              "      <td>880606923</td>\n",
              "    </tr>\n",
              "    <tr>\n",
              "      <th>4</th>\n",
              "      <td>165</td>\n",
              "      <td>345</td>\n",
              "      <td>1.0</td>\n",
              "      <td>886397596</td>\n",
              "    </tr>\n",
              "  </tbody>\n",
              "</table>\n",
              "</div>"
            ],
            "text/plain": [
              "  user_id movie_id  rating  unix_timestamp\n",
              "0     195      241     3.0       881250949\n",
              "1     185      301     3.0       891717742\n",
              "2      21      376     1.0       878887116\n",
              "3     243       50     2.0       880606923\n",
              "4     165      345     1.0       886397596"
            ]
          },
          "metadata": {
            "tags": []
          },
          "execution_count": 8
        }
      ]
    },
    {
      "cell_type": "code",
      "metadata": {
        "id": "SlgCWxb9h3Er",
        "colab_type": "code",
        "outputId": "9d57673f-c3e4-4bce-d051-da98d1149c46",
        "colab": {
          "base_uri": "https://localhost:8080/"
        }
      },
      "source": [
        "movielens.head()"
      ],
      "execution_count": 0,
      "outputs": [
        {
          "output_type": "execute_result",
          "data": {
            "text/html": [
              "<div>\n",
              "<style scoped>\n",
              "    .dataframe tbody tr th:only-of-type {\n",
              "        vertical-align: middle;\n",
              "    }\n",
              "\n",
              "    .dataframe tbody tr th {\n",
              "        vertical-align: top;\n",
              "    }\n",
              "\n",
              "    .dataframe thead th {\n",
              "        text-align: right;\n",
              "    }\n",
              "</style>\n",
              "<table border=\"1\" class=\"dataframe\">\n",
              "  <thead>\n",
              "    <tr style=\"text-align: right;\">\n",
              "      <th></th>\n",
              "      <th>user_id</th>\n",
              "      <th>movie_id</th>\n",
              "      <th>rating</th>\n",
              "      <th>unix_timestamp</th>\n",
              "      <th>title</th>\n",
              "      <th>release_date</th>\n",
              "      <th>video_release_date</th>\n",
              "      <th>imdb_url</th>\n",
              "      <th>genre_unknown</th>\n",
              "      <th>Action</th>\n",
              "      <th>Adventure</th>\n",
              "      <th>Animation</th>\n",
              "      <th>Children</th>\n",
              "      <th>Comedy</th>\n",
              "      <th>Crime</th>\n",
              "      <th>Documentary</th>\n",
              "      <th>Drama</th>\n",
              "      <th>Fantasy</th>\n",
              "      <th>Film-Noir</th>\n",
              "      <th>Horror</th>\n",
              "      <th>Musical</th>\n",
              "      <th>Mystery</th>\n",
              "      <th>Romance</th>\n",
              "      <th>Sci-Fi</th>\n",
              "      <th>Thriller</th>\n",
              "      <th>War</th>\n",
              "      <th>Western</th>\n",
              "      <th>year</th>\n",
              "      <th>genre</th>\n",
              "      <th>all_genres</th>\n",
              "      <th>age</th>\n",
              "      <th>sex</th>\n",
              "      <th>occupation</th>\n",
              "      <th>zip_code</th>\n",
              "    </tr>\n",
              "  </thead>\n",
              "  <tbody>\n",
              "    <tr>\n",
              "      <th>0</th>\n",
              "      <td>195</td>\n",
              "      <td>241</td>\n",
              "      <td>3.0</td>\n",
              "      <td>881250949</td>\n",
              "      <td>Kolya (1996)</td>\n",
              "      <td>24-Jan-1997</td>\n",
              "      <td>NaN</td>\n",
              "      <td>http://us.imdb.com/M/title-exact?Kolya%20(1996)</td>\n",
              "      <td>0</td>\n",
              "      <td>0</td>\n",
              "      <td>0</td>\n",
              "      <td>0</td>\n",
              "      <td>0</td>\n",
              "      <td>1</td>\n",
              "      <td>0</td>\n",
              "      <td>0</td>\n",
              "      <td>0</td>\n",
              "      <td>0</td>\n",
              "      <td>0</td>\n",
              "      <td>0</td>\n",
              "      <td>0</td>\n",
              "      <td>0</td>\n",
              "      <td>0</td>\n",
              "      <td>0</td>\n",
              "      <td>0</td>\n",
              "      <td>0</td>\n",
              "      <td>0</td>\n",
              "      <td>1997</td>\n",
              "      <td>Comedy</td>\n",
              "      <td>Comedy</td>\n",
              "      <td>49</td>\n",
              "      <td>M</td>\n",
              "      <td>writer</td>\n",
              "      <td>55105</td>\n",
              "    </tr>\n",
              "    <tr>\n",
              "      <th>1</th>\n",
              "      <td>195</td>\n",
              "      <td>256</td>\n",
              "      <td>2.0</td>\n",
              "      <td>881251577</td>\n",
              "      <td>Men in Black (1997)</td>\n",
              "      <td>04-Jul-1997</td>\n",
              "      <td>NaN</td>\n",
              "      <td>http://us.imdb.com/M/title-exact?Men+in+Black+...</td>\n",
              "      <td>0</td>\n",
              "      <td>1</td>\n",
              "      <td>1</td>\n",
              "      <td>0</td>\n",
              "      <td>0</td>\n",
              "      <td>1</td>\n",
              "      <td>0</td>\n",
              "      <td>0</td>\n",
              "      <td>0</td>\n",
              "      <td>0</td>\n",
              "      <td>0</td>\n",
              "      <td>0</td>\n",
              "      <td>0</td>\n",
              "      <td>0</td>\n",
              "      <td>0</td>\n",
              "      <td>1</td>\n",
              "      <td>0</td>\n",
              "      <td>0</td>\n",
              "      <td>0</td>\n",
              "      <td>1997</td>\n",
              "      <td>Sci-Fi</td>\n",
              "      <td>Action-Adventure-Comedy-Sci-Fi</td>\n",
              "      <td>49</td>\n",
              "      <td>M</td>\n",
              "      <td>writer</td>\n",
              "      <td>55105</td>\n",
              "    </tr>\n",
              "    <tr>\n",
              "      <th>2</th>\n",
              "      <td>195</td>\n",
              "      <td>110</td>\n",
              "      <td>4.0</td>\n",
              "      <td>881251793</td>\n",
              "      <td>Truth About Cats &amp; Dogs, The (1996)</td>\n",
              "      <td>26-Apr-1996</td>\n",
              "      <td>NaN</td>\n",
              "      <td>http://us.imdb.com/M/title-exact?Truth%20About...</td>\n",
              "      <td>0</td>\n",
              "      <td>0</td>\n",
              "      <td>0</td>\n",
              "      <td>0</td>\n",
              "      <td>0</td>\n",
              "      <td>1</td>\n",
              "      <td>0</td>\n",
              "      <td>0</td>\n",
              "      <td>0</td>\n",
              "      <td>0</td>\n",
              "      <td>0</td>\n",
              "      <td>0</td>\n",
              "      <td>0</td>\n",
              "      <td>0</td>\n",
              "      <td>1</td>\n",
              "      <td>0</td>\n",
              "      <td>0</td>\n",
              "      <td>0</td>\n",
              "      <td>0</td>\n",
              "      <td>1996</td>\n",
              "      <td>Comedy</td>\n",
              "      <td>Comedy-Romance</td>\n",
              "      <td>49</td>\n",
              "      <td>M</td>\n",
              "      <td>writer</td>\n",
              "      <td>55105</td>\n",
              "    </tr>\n",
              "    <tr>\n",
              "      <th>3</th>\n",
              "      <td>195</td>\n",
              "      <td>24</td>\n",
              "      <td>4.0</td>\n",
              "      <td>881251955</td>\n",
              "      <td>Birdcage, The (1996)</td>\n",
              "      <td>08-Mar-1996</td>\n",
              "      <td>NaN</td>\n",
              "      <td>http://us.imdb.com/M/title-exact?Birdcage,%20T...</td>\n",
              "      <td>0</td>\n",
              "      <td>0</td>\n",
              "      <td>0</td>\n",
              "      <td>0</td>\n",
              "      <td>0</td>\n",
              "      <td>1</td>\n",
              "      <td>0</td>\n",
              "      <td>0</td>\n",
              "      <td>0</td>\n",
              "      <td>0</td>\n",
              "      <td>0</td>\n",
              "      <td>0</td>\n",
              "      <td>0</td>\n",
              "      <td>0</td>\n",
              "      <td>0</td>\n",
              "      <td>0</td>\n",
              "      <td>0</td>\n",
              "      <td>0</td>\n",
              "      <td>0</td>\n",
              "      <td>1996</td>\n",
              "      <td>Comedy</td>\n",
              "      <td>Comedy</td>\n",
              "      <td>49</td>\n",
              "      <td>M</td>\n",
              "      <td>writer</td>\n",
              "      <td>55105</td>\n",
              "    </tr>\n",
              "    <tr>\n",
              "      <th>4</th>\n",
              "      <td>195</td>\n",
              "      <td>381</td>\n",
              "      <td>4.0</td>\n",
              "      <td>881251843</td>\n",
              "      <td>Adventures of Priscilla, Queen of the Desert, ...</td>\n",
              "      <td>01-Jan-1994</td>\n",
              "      <td>NaN</td>\n",
              "      <td>http://us.imdb.com/M/title-exact?Adventures%20...</td>\n",
              "      <td>0</td>\n",
              "      <td>0</td>\n",
              "      <td>0</td>\n",
              "      <td>0</td>\n",
              "      <td>0</td>\n",
              "      <td>1</td>\n",
              "      <td>0</td>\n",
              "      <td>0</td>\n",
              "      <td>1</td>\n",
              "      <td>0</td>\n",
              "      <td>0</td>\n",
              "      <td>0</td>\n",
              "      <td>0</td>\n",
              "      <td>0</td>\n",
              "      <td>0</td>\n",
              "      <td>0</td>\n",
              "      <td>0</td>\n",
              "      <td>0</td>\n",
              "      <td>0</td>\n",
              "      <td>1994</td>\n",
              "      <td>Comedy</td>\n",
              "      <td>Comedy-Drama</td>\n",
              "      <td>49</td>\n",
              "      <td>M</td>\n",
              "      <td>writer</td>\n",
              "      <td>55105</td>\n",
              "    </tr>\n",
              "  </tbody>\n",
              "</table>\n",
              "</div>"
            ],
            "text/plain": [
              "  user_id movie_id  rating  unix_timestamp  ... age sex  occupation zip_code\n",
              "0     195      241     3.0       881250949  ...  49   M      writer    55105\n",
              "1     195      256     2.0       881251577  ...  49   M      writer    55105\n",
              "2     195      110     4.0       881251793  ...  49   M      writer    55105\n",
              "3     195       24     4.0       881251955  ...  49   M      writer    55105\n",
              "4     195      381     4.0       881251843  ...  49   M      writer    55105\n",
              "\n",
              "[5 rows x 34 columns]"
            ]
          },
          "metadata": {
            "tags": []
          },
          "execution_count": 9
        }
      ]
    },
    {
      "cell_type": "markdown",
      "metadata": {
        "id": "2Z4dkFEMIT0i",
        "colab_type": "text"
      },
      "source": [
        "# FastAI Embeddings model"
      ]
    },
    {
      "cell_type": "code",
      "metadata": {
        "id": "uHrWk76oGoTL",
        "colab_type": "code",
        "colab": {}
      },
      "source": [
        "# !pip install fastai\n",
        "import pandas as pd\n",
        "from fastai.collab import CollabDataBunch, collab_learner, EmbeddingNN\n"
      ],
      "execution_count": 0,
      "outputs": []
    },
    {
      "cell_type": "code",
      "metadata": {
        "id": "mpWk1tb8IY2O",
        "colab_type": "code",
        "colab": {}
      },
      "source": [
        "data = CollabDataBunch.from_df(ratings, valid_pct=0.15)\n",
        "data.show_batch()\n"
      ],
      "execution_count": 0,
      "outputs": []
    },
    {
      "cell_type": "markdown",
      "metadata": {
        "id": "rOT1Z5xGMcbN",
        "colab_type": "text"
      },
      "source": [
        "\n",
        "## EmbeddingDotBias Model"
      ]
    },
    {
      "cell_type": "code",
      "metadata": {
        "id": "QB9Zg8UVIma5",
        "colab_type": "code",
        "colab": {}
      },
      "source": [
        "learn = collab_learner(data, n_factors=50, y_range=(0.,5.), wd=.1)"
      ],
      "execution_count": 0,
      "outputs": []
    },
    {
      "cell_type": "code",
      "metadata": {
        "id": "OhZFACmVIrTK",
        "colab_type": "code",
        "outputId": "79bd8f1a-5819-4a3f-c0da-16a1d2fc5881",
        "colab": {
          "base_uri": "https://localhost:8080/",
          "height": 300
        }
      },
      "source": [
        "learn.lr_find()\n",
        "learn.recorder.plot(skip_end=15)"
      ],
      "execution_count": 0,
      "outputs": [
        {
          "output_type": "display_data",
          "data": {
            "text/html": [
              ""
            ],
            "text/plain": [
              "<IPython.core.display.HTML object>"
            ]
          },
          "metadata": {
            "tags": []
          }
        },
        {
          "output_type": "stream",
          "text": [
            "LR Finder is complete, type {learner_name}.recorder.plot() to see the graph.\n"
          ],
          "name": "stdout"
        },
        {
          "output_type": "display_data",
          "data": {
            "image/png": "[encoded data removed]",
            "text/plain": [
              "<Figure size 432x288 with 1 Axes>"
            ]
          },
          "metadata": {
            "tags": []
          }
        }
      ]
    },
    {
      "cell_type": "code",
      "metadata": {
        "id": "mnE2ERllItkt",
        "colab_type": "code",
        "outputId": "782aaadd-9a9e-462b-a06e-1d00db419edf",
        "colab": {
          "base_uri": "https://localhost:8080/",
          "height": 196
        }
      },
      "source": [
        "learn.fit_one_cycle(5, 5e-3, wd=0.1)"
      ],
      "execution_count": 0,
      "outputs": [
        {
          "output_type": "display_data",
          "data": {
            "text/html": [
              "<table border=\"1\" class=\"dataframe\">\n",
              "  <thead>\n",
              "    <tr style=\"text-align: left;\">\n",
              "      <th>epoch</th>\n",
              "      <th>train_loss</th>\n",
              "      <th>valid_loss</th>\n",
              "      <th>time</th>\n",
              "    </tr>\n",
              "  </thead>\n",
              "  <tbody>\n",
              "    <tr>\n",
              "      <td>0</td>\n",
              "      <td>0.963994</td>\n",
              "      <td>0.956801</td>\n",
              "      <td>00:08</td>\n",
              "    </tr>\n",
              "    <tr>\n",
              "      <td>1</td>\n",
              "      <td>0.868230</td>\n",
              "      <td>0.883104</td>\n",
              "      <td>00:08</td>\n",
              "    </tr>\n",
              "    <tr>\n",
              "      <td>2</td>\n",
              "      <td>0.793230</td>\n",
              "      <td>0.830477</td>\n",
              "      <td>00:08</td>\n",
              "    </tr>\n",
              "    <tr>\n",
              "      <td>3</td>\n",
              "      <td>0.669829</td>\n",
              "      <td>0.811959</td>\n",
              "      <td>00:09</td>\n",
              "    </tr>\n",
              "    <tr>\n",
              "      <td>4</td>\n",
              "      <td>0.576130</td>\n",
              "      <td>0.809654</td>\n",
              "      <td>00:08</td>\n",
              "    </tr>\n",
              "  </tbody>\n",
              "</table>"
            ],
            "text/plain": [
              "<IPython.core.display.HTML object>"
            ]
          },
          "metadata": {
            "tags": []
          }
        }
      ]
    },
    {
      "cell_type": "code",
      "metadata": {
        "id": "wuzKozvTI3Pc",
        "colab_type": "code",
        "outputId": "f7bdd0ba-a23c-4418-82c9-d46831713672",
        "colab": {
          "base_uri": "https://localhost:8080/",
          "height": 301
        }
      },
      "source": [
        "(users, items), ratings = next(iter(data.valid_dl))\n",
        "preds = learn.model(users, items)\n",
        "print('Real\\tPred\\tDifference')\n",
        "for p in list(zip(ratings, preds))[:16]:\n",
        "    print('{}\\t{:.1f}\\t{:.1f}'.format(p[0],p[1],p[1]-p[0]))\n"
      ],
      "execution_count": 0,
      "outputs": [
        {
          "output_type": "stream",
          "text": [
            "Real\tPred\tDifference\n",
            "3.0\t2.2\t-0.8\n",
            "4.0\t2.9\t-1.1\n",
            "2.0\t2.8\t0.8\n",
            "3.0\t2.9\t-0.1\n",
            "5.0\t4.3\t-0.7\n",
            "3.0\t3.7\t0.7\n",
            "1.0\t2.4\t1.4\n",
            "5.0\t4.3\t-0.7\n",
            "4.0\t3.4\t-0.6\n",
            "1.0\t2.9\t1.9\n",
            "4.0\t4.2\t0.2\n",
            "5.0\t4.3\t-0.7\n",
            "5.0\t3.7\t-1.3\n",
            "2.0\t2.9\t0.9\n",
            "2.0\t3.1\t1.1\n",
            "2.0\t3.7\t1.7\n"
          ],
          "name": "stdout"
        }
      ]
    },
    {
      "cell_type": "markdown",
      "metadata": {
        "id": "aKbSMddyMfs7",
        "colab_type": "text"
      },
      "source": [
        "##EmbeddingNN  Model"
      ]
    },
    {
      "cell_type": "code",
      "metadata": {
        "id": "6W7ApTLaJxKA",
        "colab_type": "code",
        "colab": {}
      },
      "source": [
        "learn = collab_learner(data, use_nn=True, emb_szs={'user_id': 40, 'movie_id':40}, layers=[256, 128], y_range=(1, 5))\n"
      ],
      "execution_count": 0,
      "outputs": []
    },
    {
      "cell_type": "code",
      "metadata": {
        "id": "qxBCi4P1MrKW",
        "colab_type": "code",
        "outputId": "a45f6aa7-1aff-40ca-d487-8948bd3017df",
        "colab": {
          "base_uri": "https://localhost:8080/",
          "height": 300
        }
      },
      "source": [
        "learn.lr_find() # find learning rate\n",
        "learn.recorder.plot() # plot learning rate graph\n"
      ],
      "execution_count": 0,
      "outputs": [
        {
          "output_type": "display_data",
          "data": {
            "text/html": [
              ""
            ],
            "text/plain": [
              "<IPython.core.display.HTML object>"
            ]
          },
          "metadata": {
            "tags": []
          }
        },
        {
          "output_type": "stream",
          "text": [
            "LR Finder is complete, type {learner_name}.recorder.plot() to see the graph.\n"
          ],
          "name": "stdout"
        },
        {
          "output_type": "display_data",
          "data": {
            "image/png": "[encoded data removed]",
            "text/plain": [
              "<Figure size 432x288 with 1 Axes>"
            ]
          },
          "metadata": {
            "tags": []
          }
        }
      ]
    },
    {
      "cell_type": "code",
      "metadata": {
        "id": "nkN3BclyMtbn",
        "colab_type": "code",
        "outputId": "427543e1-94dd-4fe7-f93a-39d00458ae25",
        "colab": {
          "base_uri": "https://localhost:8080/",
          "height": 196
        }
      },
      "source": [
        "learn.fit_one_cycle(5, 1e-2)\n"
      ],
      "execution_count": 0,
      "outputs": [
        {
          "output_type": "display_data",
          "data": {
            "text/html": [
              "<table border=\"1\" class=\"dataframe\">\n",
              "  <thead>\n",
              "    <tr style=\"text-align: left;\">\n",
              "      <th>epoch</th>\n",
              "      <th>train_loss</th>\n",
              "      <th>valid_loss</th>\n",
              "      <th>time</th>\n",
              "    </tr>\n",
              "  </thead>\n",
              "  <tbody>\n",
              "    <tr>\n",
              "      <td>0</td>\n",
              "      <td>0.996246</td>\n",
              "      <td>0.963006</td>\n",
              "      <td>00:11</td>\n",
              "    </tr>\n",
              "    <tr>\n",
              "      <td>1</td>\n",
              "      <td>0.914653</td>\n",
              "      <td>0.900042</td>\n",
              "      <td>00:11</td>\n",
              "    </tr>\n",
              "    <tr>\n",
              "      <td>2</td>\n",
              "      <td>0.883064</td>\n",
              "      <td>0.878848</td>\n",
              "      <td>00:11</td>\n",
              "    </tr>\n",
              "    <tr>\n",
              "      <td>3</td>\n",
              "      <td>0.818831</td>\n",
              "      <td>0.861804</td>\n",
              "      <td>00:11</td>\n",
              "    </tr>\n",
              "    <tr>\n",
              "      <td>4</td>\n",
              "      <td>0.784336</td>\n",
              "      <td>0.864615</td>\n",
              "      <td>00:11</td>\n",
              "    </tr>\n",
              "  </tbody>\n",
              "</table>"
            ],
            "text/plain": [
              "<IPython.core.display.HTML object>"
            ]
          },
          "metadata": {
            "tags": []
          }
        }
      ]
    },
    {
      "cell_type": "code",
      "metadata": {
        "id": "kE5UTye3NXF4",
        "colab_type": "code",
        "colab": {}
      },
      "source": [
        "learn.save('movies-dot-1')\n"
      ],
      "execution_count": 0,
      "outputs": []
    },
    {
      "cell_type": "markdown",
      "metadata": {
        "id": "YJl1ooI9_MfH",
        "colab_type": "text"
      },
      "source": [
        "# Recommendation using Keras Embeddings\n",
        "\n",
        "We used a NN based Matrix Factorization method, where the matrices are embeddings learned my the model.\n",
        "The final layer is a dot product as usual in MF.\n",
        "\n"
      ]
    },
    {
      "cell_type": "code",
      "metadata": {
        "colab_type": "code",
        "id": "lj2JYe-7RTAC",
        "colab": {}
      },
      "source": [
        "# Load each data set (users, movies, and ratings).\n",
        "ratings_cols = ['user_id', 'movie_id', 'rating', 'unix_timestamp']\n",
        "\n",
        "train_df = pd.read_csv(\n",
        "    'ml-100k/u1.base', sep='\\t', names=ratings_cols, encoding='latin-1')\n",
        "\n",
        "test_df = pd.read_csv(\n",
        "    'ml-100k/u1.test', sep='\\t', names=ratings_cols, encoding='latin-1')"
      ],
      "execution_count": 0,
      "outputs": []
    },
    {
      "cell_type": "code",
      "metadata": {
        "colab_type": "code",
        "id": "akHxdktURTAH",
        "colab": {}
      },
      "source": [
        "pivot_train = train_df.pivot_table(values = 'rating', index = 'movie_id', columns = 'user_id')\n",
        "pivot_train.fillna(0, inplace = True)\n",
        "\n",
        "pivot_test = test_df.pivot_table(values = 'rating', index = 'movie_id', columns = 'user_id')\n",
        "pivot_test.fillna(0, inplace = True)"
      ],
      "execution_count": 0,
      "outputs": []
    },
    {
      "cell_type": "code",
      "metadata": {
        "id": "J5aVMw296MaP",
        "colab_type": "code",
        "colab": {}
      },
      "source": [
        "# https://nipunbatra.github.io/blog/2017/recommend-keras.html"
      ],
      "execution_count": 0,
      "outputs": []
    },
    {
      "cell_type": "code",
      "metadata": {
        "id": "b6x7rryk_ZaH",
        "colab_type": "code",
        "colab": {}
      },
      "source": [
        "from sklearn.model_selection import train_test_split\n",
        "train, test = train_test_split(train_df[['user_id','movie_id','rating']], test_size=0.2)"
      ],
      "execution_count": 0,
      "outputs": []
    },
    {
      "cell_type": "code",
      "metadata": {
        "id": "sRuDnkSmRetz",
        "colab_type": "code",
        "outputId": "847f894f-c685-414c-854b-caeb6f092f16",
        "colab": {
          "base_uri": "https://localhost:8080/",
          "height": 33
        }
      },
      "source": [
        "train.shape, test.shape"
      ],
      "execution_count": 0,
      "outputs": [
        {
          "output_type": "execute_result",
          "data": {
            "text/plain": [
              "((64000, 3), (16000, 3))"
            ]
          },
          "metadata": {
            "tags": []
          },
          "execution_count": 16
        }
      ]
    },
    {
      "cell_type": "code",
      "metadata": {
        "id": "QVvvEKmG_iS-",
        "colab_type": "code",
        "outputId": "6c424186-d8f6-4fdf-99a9-c0ce954f8ebb",
        "colab": {
          "base_uri": "https://localhost:8080/",
          "height": 33
        }
      },
      "source": [
        "#Matrix factorisation in Keras\n",
        "import keras\n",
        "from IPython.display import SVG\n",
        "from keras.optimizers import Adam\n",
        "from keras.utils.vis_utils import model_to_dot\n",
        "n_users, n_movies = len(movielens.user_id.unique()), len(movielens.movie_id.unique())\n",
        "from keras.regularizers import l2, l1\n",
        "\n",
        "n_latent_factors = 30"
      ],
      "execution_count": 0,
      "outputs": [
        {
          "output_type": "stream",
          "text": [
            "Using TensorFlow backend.\n"
          ],
          "name": "stderr"
        }
      ]
    },
    {
      "cell_type": "markdown",
      "metadata": {
        "id": "qcWV6nJ2_pwq",
        "colab_type": "text"
      },
      "source": [
        "**Dot architecture - Multi layer Embeddings**\n",
        "\n",
        "Dedi - I added L1 regularization, because we were overfitting pretty hard.\n",
        "L1 instead of L2, because L2 tends to make weights go to 0, and we will use the meaning of the embedding that way."
      ]
    },
    {
      "cell_type": "code",
      "metadata": {
        "id": "eVkx9huvgjeX",
        "colab_type": "code",
        "colab": {}
      },
      "source": [
        "movie_input = keras.layers.Input(shape=[1],name='Item')\n",
        "movie_embedding = keras.layers.Embedding(n_movies + 1, n_latent_factors, name='Movie-Embedding', \n",
        "                                         embeddings_regularizer=l1(1e-6))(movie_input)\n",
        "movie_vec = keras.layers.Flatten(name='FlattenMovies')(movie_embedding)\n",
        "\n",
        "user_input = keras.layers.Input(shape=[1],name='User')\n",
        "user_vec = keras.layers.Flatten(name='FlattenUsers')(keras.layers.Embedding(n_users + 1,\n",
        "                                                                            n_latent_factors,name='User-Embedding',\n",
        "                                                                           embeddings_regularizer=l1(1e-6))(user_input))\n",
        "\n",
        "prod = keras.layers.dot([movie_vec, user_vec], axes=1, normalize=False) #original command from article: prod = keras.layers.merge([movie_vec, user_vec], mode='dot',name='DotProduct')\n",
        "model = keras.Model([user_input, movie_input], prod)\n",
        "model.compile(keras.optimizers.Adam(lr=0.001, beta_1=0.9, beta_2=0.999, epsilon=None, decay=0.0001, amsgrad=False), 'mae', metrics=['mse'])"
      ],
      "execution_count": 0,
      "outputs": []
    },
    {
      "cell_type": "code",
      "metadata": {
        "id": "LefOfXgqLspb",
        "colab_type": "code",
        "outputId": "52c0e0ad-6f17-412d-b7fa-1e6e5cb17fbe",
        "colab": {
          "base_uri": "https://localhost:8080/",
          "height": 426
        }
      },
      "source": [
        "#model visualization\n",
        "SVG(model_to_dot(model,  show_shapes=True, show_layer_names=True, rankdir='HB').create(prog='dot', format='svg'))"
      ],
      "execution_count": 0,
      "outputs": [
        {
          "output_type": "execute_result",
          "data": {
            "text/plain": [
              "<IPython.core.display.SVG object>"
            ],
            "image/svg+xml": "<svg height=\"304pt\" viewBox=\"0.00 0.00 722.50 304.00\" width=\"723pt\" xmlns=\"http://www.w3.org/2000/svg\" xmlns:xlink=\"http://www.w3.org/1999/xlink\">\n<g class=\"graph\" id=\"graph0\" transform=\"scale(1 1) rotate(0) translate(4 300)\">\n<title>G</title>\n<polygon fill=\"#ffffff\" points=\"-4,4 -4,-300 718.5,-300 718.5,4 -4,4\" stroke=\"transparent\"/>\n<!-- 140208606664296 -->\n<g class=\"node\" id=\"node1\">\n<title>140208606664296</title>\n<polygon fill=\"none\" points=\"55.5,-249.5 55.5,-295.5 298.5,-295.5 298.5,-249.5 55.5,-249.5\" stroke=\"#000000\"/>\n<text fill=\"#000000\" font-family=\"Times,serif\" font-size=\"14.00\" text-anchor=\"middle\" x=\"112\" y=\"-268.8\">Item: InputLayer</text>\n<polyline fill=\"none\" points=\"168.5,-249.5 168.5,-295.5 \" stroke=\"#000000\"/>\n<text fill=\"#000000\" font-family=\"Times,serif\" font-size=\"14.00\" text-anchor=\"middle\" x=\"197.5\" y=\"-280.3\">input:</text>\n<polyline fill=\"none\" points=\"168.5,-272.5 226.5,-272.5 \" stroke=\"#000000\"/>\n<text fill=\"#000000\" font-family=\"Times,serif\" font-size=\"14.00\" text-anchor=\"middle\" x=\"197.5\" y=\"-257.3\">output:</text>\n<polyline fill=\"none\" points=\"226.5,-249.5 226.5,-295.5 \" stroke=\"#000000\"/>\n<text fill=\"#000000\" font-family=\"Times,serif\" font-size=\"14.00\" text-anchor=\"middle\" x=\"262.5\" y=\"-280.3\">(None, 1)</text>\n<polyline fill=\"none\" points=\"226.5,-272.5 298.5,-272.5 \" stroke=\"#000000\"/>\n<text fill=\"#000000\" font-family=\"Times,serif\" font-size=\"14.00\" text-anchor=\"middle\" x=\"262.5\" y=\"-257.3\">(None, 1)</text>\n</g>\n<!-- 140208606664240 -->\n<g class=\"node\" id=\"node3\">\n<title>140208606664240</title>\n<polygon fill=\"none\" points=\"0,-166.5 0,-212.5 354,-212.5 354,-166.5 0,-166.5\" stroke=\"#000000\"/>\n<text fill=\"#000000\" font-family=\"Times,serif\" font-size=\"14.00\" text-anchor=\"middle\" x=\"100.5\" y=\"-185.8\">Movie-Embedding: Embedding</text>\n<polyline fill=\"none\" points=\"201,-166.5 201,-212.5 \" stroke=\"#000000\"/>\n<text fill=\"#000000\" font-family=\"Times,serif\" font-size=\"14.00\" text-anchor=\"middle\" x=\"230\" y=\"-197.3\">input:</text>\n<polyline fill=\"none\" points=\"201,-189.5 259,-189.5 \" stroke=\"#000000\"/>\n<text fill=\"#000000\" font-family=\"Times,serif\" font-size=\"14.00\" text-anchor=\"middle\" x=\"230\" y=\"-174.3\">output:</text>\n<polyline fill=\"none\" points=\"259,-166.5 259,-212.5 \" stroke=\"#000000\"/>\n<text fill=\"#000000\" font-family=\"Times,serif\" font-size=\"14.00\" text-anchor=\"middle\" x=\"306.5\" y=\"-197.3\">(None, 1)</text>\n<polyline fill=\"none\" points=\"259,-189.5 354,-189.5 \" stroke=\"#000000\"/>\n<text fill=\"#000000\" font-family=\"Times,serif\" font-size=\"14.00\" text-anchor=\"middle\" x=\"306.5\" y=\"-174.3\">(None, 1, 30)</text>\n</g>\n<!-- 140208606664296&#45;&gt;140208606664240 -->\n<g class=\"edge\" id=\"edge1\">\n<title>140208606664296-&gt;140208606664240</title>\n<path d=\"M177,-249.3799C177,-241.1745 177,-231.7679 177,-222.8786\" fill=\"none\" stroke=\"#000000\"/>\n<polygon fill=\"#000000\" points=\"180.5001,-222.784 177,-212.784 173.5001,-222.784 180.5001,-222.784\" stroke=\"#000000\"/>\n</g>\n<!-- 140208606664856 -->\n<g class=\"node\" id=\"node2\">\n<title>140208606664856</title>\n<polygon fill=\"none\" points=\"421,-249.5 421,-295.5 665,-295.5 665,-249.5 421,-249.5\" stroke=\"#000000\"/>\n<text fill=\"#000000\" font-family=\"Times,serif\" font-size=\"14.00\" text-anchor=\"middle\" x=\"478\" y=\"-268.8\">User: InputLayer</text>\n<polyline fill=\"none\" points=\"535,-249.5 535,-295.5 \" stroke=\"#000000\"/>\n<text fill=\"#000000\" font-family=\"Times,serif\" font-size=\"14.00\" text-anchor=\"middle\" x=\"564\" y=\"-280.3\">input:</text>\n<polyline fill=\"none\" points=\"535,-272.5 593,-272.5 \" stroke=\"#000000\"/>\n<text fill=\"#000000\" font-family=\"Times,serif\" font-size=\"14.00\" text-anchor=\"middle\" x=\"564\" y=\"-257.3\">output:</text>\n<polyline fill=\"none\" points=\"593,-249.5 593,-295.5 \" stroke=\"#000000\"/>\n<text fill=\"#000000\" font-family=\"Times,serif\" font-size=\"14.00\" text-anchor=\"middle\" x=\"629\" y=\"-280.3\">(None, 1)</text>\n<polyline fill=\"none\" points=\"593,-272.5 665,-272.5 \" stroke=\"#000000\"/>\n<text fill=\"#000000\" font-family=\"Times,serif\" font-size=\"14.00\" text-anchor=\"middle\" x=\"629\" y=\"-257.3\">(None, 1)</text>\n</g>\n<!-- 140208606664744 -->\n<g class=\"node\" id=\"node4\">\n<title>140208606664744</title>\n<polygon fill=\"none\" points=\"371.5,-166.5 371.5,-212.5 714.5,-212.5 714.5,-166.5 371.5,-166.5\" stroke=\"#000000\"/>\n<text fill=\"#000000\" font-family=\"Times,serif\" font-size=\"14.00\" text-anchor=\"middle\" x=\"466.5\" y=\"-185.8\">User-Embedding: Embedding</text>\n<polyline fill=\"none\" points=\"561.5,-166.5 561.5,-212.5 \" stroke=\"#000000\"/>\n<text fill=\"#000000\" font-family=\"Times,serif\" font-size=\"14.00\" text-anchor=\"middle\" x=\"590.5\" y=\"-197.3\">input:</text>\n<polyline fill=\"none\" points=\"561.5,-189.5 619.5,-189.5 \" stroke=\"#000000\"/>\n<text fill=\"#000000\" font-family=\"Times,serif\" font-size=\"14.00\" text-anchor=\"middle\" x=\"590.5\" y=\"-174.3\">output:</text>\n<polyline fill=\"none\" points=\"619.5,-166.5 619.5,-212.5 \" stroke=\"#000000\"/>\n<text fill=\"#000000\" font-family=\"Times,serif\" font-size=\"14.00\" text-anchor=\"middle\" x=\"667\" y=\"-197.3\">(None, 1)</text>\n<polyline fill=\"none\" points=\"619.5,-189.5 714.5,-189.5 \" stroke=\"#000000\"/>\n<text fill=\"#000000\" font-family=\"Times,serif\" font-size=\"14.00\" text-anchor=\"middle\" x=\"667\" y=\"-174.3\">(None, 1, 30)</text>\n</g>\n<!-- 140208606664856&#45;&gt;140208606664744 -->\n<g class=\"edge\" id=\"edge2\">\n<title>140208606664856-&gt;140208606664744</title>\n<path d=\"M543,-249.3799C543,-241.1745 543,-231.7679 543,-222.8786\" fill=\"none\" stroke=\"#000000\"/>\n<polygon fill=\"#000000\" points=\"546.5001,-222.784 543,-212.784 539.5001,-222.784 546.5001,-222.784\" stroke=\"#000000\"/>\n</g>\n<!-- 140208606665360 -->\n<g class=\"node\" id=\"node5\">\n<title>140208606665360</title>\n<polygon fill=\"none\" points=\"55,-83.5 55,-129.5 353,-129.5 353,-83.5 55,-83.5\" stroke=\"#000000\"/>\n<text fill=\"#000000\" font-family=\"Times,serif\" font-size=\"14.00\" text-anchor=\"middle\" x=\"127.5\" y=\"-102.8\">FlattenMovies: Flatten</text>\n<polyline fill=\"none\" points=\"200,-83.5 200,-129.5 \" stroke=\"#000000\"/>\n<text fill=\"#000000\" font-family=\"Times,serif\" font-size=\"14.00\" text-anchor=\"middle\" x=\"229\" y=\"-114.3\">input:</text>\n<polyline fill=\"none\" points=\"200,-106.5 258,-106.5 \" stroke=\"#000000\"/>\n<text fill=\"#000000\" font-family=\"Times,serif\" font-size=\"14.00\" text-anchor=\"middle\" x=\"229\" y=\"-91.3\">output:</text>\n<polyline fill=\"none\" points=\"258,-83.5 258,-129.5 \" stroke=\"#000000\"/>\n<text fill=\"#000000\" font-family=\"Times,serif\" font-size=\"14.00\" text-anchor=\"middle\" x=\"305.5\" y=\"-114.3\">(None, 1, 30)</text>\n<polyline fill=\"none\" points=\"258,-106.5 353,-106.5 \" stroke=\"#000000\"/>\n<text fill=\"#000000\" font-family=\"Times,serif\" font-size=\"14.00\" text-anchor=\"middle\" x=\"305.5\" y=\"-91.3\">(None, 30)</text>\n</g>\n<!-- 140208606664240&#45;&gt;140208606665360 -->\n<g class=\"edge\" id=\"edge3\">\n<title>140208606664240-&gt;140208606665360</title>\n<path d=\"M184.521,-166.3799C187.2482,-157.9962 190.3834,-148.3584 193.3302,-139.2996\" fill=\"none\" stroke=\"#000000\"/>\n<polygon fill=\"#000000\" points=\"196.6605,-140.3762 196.4257,-129.784 190.0038,-138.2108 196.6605,-140.3762\" stroke=\"#000000\"/>\n</g>\n<!-- 140208606665024 -->\n<g class=\"node\" id=\"node6\">\n<title>140208606665024</title>\n<polygon fill=\"none\" points=\"385.5,-83.5 385.5,-129.5 672.5,-129.5 672.5,-83.5 385.5,-83.5\" stroke=\"#000000\"/>\n<text fill=\"#000000\" font-family=\"Times,serif\" font-size=\"14.00\" text-anchor=\"middle\" x=\"452.5\" y=\"-102.8\">FlattenUsers: Flatten</text>\n<polyline fill=\"none\" points=\"519.5,-83.5 519.5,-129.5 \" stroke=\"#000000\"/>\n<text fill=\"#000000\" font-family=\"Times,serif\" font-size=\"14.00\" text-anchor=\"middle\" x=\"548.5\" y=\"-114.3\">input:</text>\n<polyline fill=\"none\" points=\"519.5,-106.5 577.5,-106.5 \" stroke=\"#000000\"/>\n<text fill=\"#000000\" font-family=\"Times,serif\" font-size=\"14.00\" text-anchor=\"middle\" x=\"548.5\" y=\"-91.3\">output:</text>\n<polyline fill=\"none\" points=\"577.5,-83.5 577.5,-129.5 \" stroke=\"#000000\"/>\n<text fill=\"#000000\" font-family=\"Times,serif\" font-size=\"14.00\" text-anchor=\"middle\" x=\"625\" y=\"-114.3\">(None, 1, 30)</text>\n<polyline fill=\"none\" points=\"577.5,-106.5 672.5,-106.5 \" stroke=\"#000000\"/>\n<text fill=\"#000000\" font-family=\"Times,serif\" font-size=\"14.00\" text-anchor=\"middle\" x=\"625\" y=\"-91.3\">(None, 30)</text>\n</g>\n<!-- 140208606664744&#45;&gt;140208606665024 -->\n<g class=\"edge\" id=\"edge4\">\n<title>140208606664744-&gt;140208606665024</title>\n<path d=\"M539.1002,-166.3799C537.7162,-158.1745 536.1295,-148.7679 534.6301,-139.8786\" fill=\"none\" stroke=\"#000000\"/>\n<polygon fill=\"#000000\" points=\"538.042,-139.0625 532.9274,-129.784 531.1395,-140.2269 538.042,-139.0625\" stroke=\"#000000\"/>\n</g>\n<!-- 140208606664576 -->\n<g class=\"node\" id=\"node7\">\n<title>140208606664576</title>\n<polygon fill=\"none\" points=\"210.5,-.5 210.5,-46.5 507.5,-46.5 507.5,-.5 210.5,-.5\" stroke=\"#000000\"/>\n<text fill=\"#000000\" font-family=\"Times,serif\" font-size=\"14.00\" text-anchor=\"middle\" x=\"250.5\" y=\"-19.8\">dot_1: Dot</text>\n<polyline fill=\"none\" points=\"290.5,-.5 290.5,-46.5 \" stroke=\"#000000\"/>\n<text fill=\"#000000\" font-family=\"Times,serif\" font-size=\"14.00\" text-anchor=\"middle\" x=\"319.5\" y=\"-31.3\">input:</text>\n<polyline fill=\"none\" points=\"290.5,-23.5 348.5,-23.5 \" stroke=\"#000000\"/>\n<text fill=\"#000000\" font-family=\"Times,serif\" font-size=\"14.00\" text-anchor=\"middle\" x=\"319.5\" y=\"-8.3\">output:</text>\n<polyline fill=\"none\" points=\"348.5,-.5 348.5,-46.5 \" stroke=\"#000000\"/>\n<text fill=\"#000000\" font-family=\"Times,serif\" font-size=\"14.00\" text-anchor=\"middle\" x=\"428\" y=\"-31.3\">[(None, 30), (None, 30)]</text>\n<polyline fill=\"none\" points=\"348.5,-23.5 507.5,-23.5 \" stroke=\"#000000\"/>\n<text fill=\"#000000\" font-family=\"Times,serif\" font-size=\"14.00\" text-anchor=\"middle\" x=\"428\" y=\"-8.3\">(None, 1)</text>\n</g>\n<!-- 140208606665360&#45;&gt;140208606664576 -->\n<g class=\"edge\" id=\"edge5\">\n<title>140208606665360-&gt;140208606664576</title>\n<path d=\"M247.1761,-83.3799C265.658,-73.4832 287.4034,-61.8388 306.7809,-51.4625\" fill=\"none\" stroke=\"#000000\"/>\n<polygon fill=\"#000000\" points=\"308.6234,-54.4461 315.7868,-46.6399 305.3189,-48.2752 308.6234,-54.4461\" stroke=\"#000000\"/>\n</g>\n<!-- 140208606665024&#45;&gt;140208606664576 -->\n<g class=\"edge\" id=\"edge6\">\n<title>140208606665024-&gt;140208606664576</title>\n<path d=\"M481.6455,-83.3799C461.1,-73.3488 436.8771,-61.5224 415.4085,-51.0406\" fill=\"none\" stroke=\"#000000\"/>\n<polygon fill=\"#000000\" points=\"416.9168,-47.8822 406.3951,-46.6399 413.8456,-54.1725 416.9168,-47.8822\" stroke=\"#000000\"/>\n</g>\n</g>\n</svg>"
          },
          "metadata": {
            "tags": []
          },
          "execution_count": 19
        }
      ]
    },
    {
      "cell_type": "code",
      "metadata": {
        "id": "MB3b6RuiL32i",
        "colab_type": "code",
        "outputId": "1a617650-7e59-4315-86dc-881491b73033",
        "colab": {
          "base_uri": "https://localhost:8080/",
          "height": 385
        }
      },
      "source": [
        "    model.summary()"
      ],
      "execution_count": 0,
      "outputs": [
        {
          "output_type": "stream",
          "text": [
            "__________________________________________________________________________________________________\n",
            "Layer (type)                    Output Shape         Param #     Connected to                     \n",
            "==================================================================================================\n",
            "Item (InputLayer)               (None, 1)            0                                            \n",
            "__________________________________________________________________________________________________\n",
            "User (InputLayer)               (None, 1)            0                                            \n",
            "__________________________________________________________________________________________________\n",
            "Movie-Embedding (Embedding)     (None, 1, 30)        50490       Item[0][0]                       \n",
            "__________________________________________________________________________________________________\n",
            "User-Embedding (Embedding)      (None, 1, 30)        28320       User[0][0]                       \n",
            "__________________________________________________________________________________________________\n",
            "FlattenMovies (Flatten)         (None, 30)           0           Movie-Embedding[0][0]            \n",
            "__________________________________________________________________________________________________\n",
            "FlattenUsers (Flatten)          (None, 30)           0           User-Embedding[0][0]             \n",
            "__________________________________________________________________________________________________\n",
            "dot_1 (Dot)                     (None, 1)            0           FlattenMovies[0][0]              \n",
            "                                                                 FlattenUsers[0][0]               \n",
            "==================================================================================================\n",
            "Total params: 78,810\n",
            "Trainable params: 78,810\n",
            "Non-trainable params: 0\n",
            "__________________________________________________________________________________________________\n"
          ],
          "name": "stdout"
        }
      ]
    },
    {
      "cell_type": "markdown",
      "metadata": {
        "id": "efkuXNcHAU3i",
        "colab_type": "text"
      },
      "source": [
        " **TODO** \n",
        "\n",
        "\n",
        "1.   Add CV instead of test-train split\n",
        "2.   Try different hyperparameters\n",
        "\n"
      ]
    },
    {
      "cell_type": "code",
      "metadata": {
        "id": "KiMxF7GJ_2NQ",
        "colab_type": "code",
        "outputId": "4a909440-0f1e-4174-996e-c554d6c0d1fc",
        "colab": {
          "base_uri": "https://localhost:8080/",
          "height": 1000
        }
      },
      "source": [
        "history = model.fit([train.user_id, train.movie_id], train.rating, epochs=80, batch_size = 128,\n",
        "                    validation_split=0.2, verbose=1)"
      ],
      "execution_count": 0,
      "outputs": [
        {
          "output_type": "stream",
          "text": [
            "Train on 51200 samples, validate on 12800 samples\n",
            "Epoch 1/80\n",
            "51200/51200 [==============================] - 2s 31us/step - loss: 3.4865 - mean_squared_error: 13.3849 - val_loss: 3.2157 - val_mean_squared_error: 11.5401\n",
            "Epoch 2/80\n",
            "51200/51200 [==============================] - 1s 26us/step - loss: 2.1190 - mean_squared_error: 6.0186 - val_loss: 1.2726 - val_mean_squared_error: 2.4976\n",
            "Epoch 3/80\n",
            "51200/51200 [==============================] - 1s 26us/step - loss: 1.0456 - mean_squared_error: 1.7498 - val_loss: 0.9500 - val_mean_squared_error: 1.4418\n",
            "Epoch 4/80\n",
            "51200/51200 [==============================] - 1s 26us/step - loss: 0.8648 - mean_squared_error: 1.2080 - val_loss: 0.8637 - val_mean_squared_error: 1.1889\n",
            "Epoch 5/80\n",
            "51200/51200 [==============================] - 1s 26us/step - loss: 0.8056 - mean_squared_error: 1.0466 - val_loss: 0.8262 - val_mean_squared_error: 1.0878\n",
            "Epoch 6/80\n",
            "51200/51200 [==============================] - 1s 26us/step - loss: 0.7784 - mean_squared_error: 0.9768 - val_loss: 0.8104 - val_mean_squared_error: 1.0425\n",
            "Epoch 7/80\n",
            "51200/51200 [==============================] - 1s 26us/step - loss: 0.7638 - mean_squared_error: 0.9408 - val_loss: 0.7993 - val_mean_squared_error: 1.0169\n",
            "Epoch 8/80\n",
            "51200/51200 [==============================] - 1s 27us/step - loss: 0.7540 - mean_squared_error: 0.9196 - val_loss: 0.7940 - val_mean_squared_error: 1.0024\n",
            "Epoch 9/80\n",
            "51200/51200 [==============================] - 1s 26us/step - loss: 0.7479 - mean_squared_error: 0.9060 - val_loss: 0.7907 - val_mean_squared_error: 0.9940\n",
            "Epoch 10/80\n",
            "51200/51200 [==============================] - 1s 26us/step - loss: 0.7431 - mean_squared_error: 0.8954 - val_loss: 0.7889 - val_mean_squared_error: 0.9886\n",
            "Epoch 11/80\n",
            "51200/51200 [==============================] - 1s 26us/step - loss: 0.7399 - mean_squared_error: 0.8888 - val_loss: 0.7865 - val_mean_squared_error: 0.9847\n",
            "Epoch 12/80\n",
            "51200/51200 [==============================] - 1s 25us/step - loss: 0.7364 - mean_squared_error: 0.8821 - val_loss: 0.7857 - val_mean_squared_error: 0.9825\n",
            "Epoch 13/80\n",
            "51200/51200 [==============================] - 1s 25us/step - loss: 0.7335 - mean_squared_error: 0.8769 - val_loss: 0.7845 - val_mean_squared_error: 0.9808\n",
            "Epoch 14/80\n",
            "51200/51200 [==============================] - 1s 25us/step - loss: 0.7309 - mean_squared_error: 0.8720 - val_loss: 0.7840 - val_mean_squared_error: 0.9806\n",
            "Epoch 15/80\n",
            "51200/51200 [==============================] - 1s 24us/step - loss: 0.7282 - mean_squared_error: 0.8669 - val_loss: 0.7835 - val_mean_squared_error: 0.9796\n",
            "Epoch 16/80\n",
            "51200/51200 [==============================] - 1s 25us/step - loss: 0.7257 - mean_squared_error: 0.8623 - val_loss: 0.7829 - val_mean_squared_error: 0.9777\n",
            "Epoch 17/80\n",
            "51200/51200 [==============================] - 1s 25us/step - loss: 0.7233 - mean_squared_error: 0.8591 - val_loss: 0.7828 - val_mean_squared_error: 0.9767\n",
            "Epoch 18/80\n",
            "51200/51200 [==============================] - 1s 26us/step - loss: 0.7210 - mean_squared_error: 0.8552 - val_loss: 0.7814 - val_mean_squared_error: 0.9746\n",
            "Epoch 19/80\n",
            "51200/51200 [==============================] - 1s 25us/step - loss: 0.7182 - mean_squared_error: 0.8503 - val_loss: 0.7813 - val_mean_squared_error: 0.9731\n",
            "Epoch 20/80\n",
            "51200/51200 [==============================] - 1s 26us/step - loss: 0.7156 - mean_squared_error: 0.8456 - val_loss: 0.7808 - val_mean_squared_error: 0.9736\n",
            "Epoch 21/80\n",
            "51200/51200 [==============================] - 1s 25us/step - loss: 0.7128 - mean_squared_error: 0.8409 - val_loss: 0.7806 - val_mean_squared_error: 0.9726\n",
            "Epoch 22/80\n",
            "51200/51200 [==============================] - 1s 25us/step - loss: 0.7102 - mean_squared_error: 0.8373 - val_loss: 0.7790 - val_mean_squared_error: 0.9696\n",
            "Epoch 23/80\n",
            "51200/51200 [==============================] - 1s 24us/step - loss: 0.7072 - mean_squared_error: 0.8312 - val_loss: 0.7787 - val_mean_squared_error: 0.9689\n",
            "Epoch 24/80\n",
            "51200/51200 [==============================] - 1s 24us/step - loss: 0.7043 - mean_squared_error: 0.8268 - val_loss: 0.7781 - val_mean_squared_error: 0.9666\n",
            "Epoch 25/80\n",
            "51200/51200 [==============================] - 1s 25us/step - loss: 0.7012 - mean_squared_error: 0.8213 - val_loss: 0.7780 - val_mean_squared_error: 0.9662\n",
            "Epoch 26/80\n",
            "51200/51200 [==============================] - 1s 24us/step - loss: 0.6981 - mean_squared_error: 0.8158 - val_loss: 0.7782 - val_mean_squared_error: 0.9662\n",
            "Epoch 27/80\n",
            "23168/51200 [============>.................] - ETA: 0s - loss: 0.6929 - mean_squared_error: 0.8046"
          ],
          "name": "stdout"
        },
        {
          "output_type": "error",
          "ename": "KeyboardInterrupt",
          "evalue": "ignored",
          "traceback": [
            "\u001b[0;31m---------------------------------------------------------------------------\u001b[0m",
            "\u001b[0;31mKeyboardInterrupt\u001b[0m                         Traceback (most recent call last)",
            "\u001b[0;32m<ipython-input-23-b61f831460bb>\u001b[0m in \u001b[0;36m<module>\u001b[0;34m()\u001b[0m\n\u001b[1;32m      1\u001b[0m history = model.fit([train.user_id, train.movie_id], train.rating, epochs=80, batch_size = 128,\n\u001b[0;32m----> 2\u001b[0;31m                     validation_split=0.2, verbose=1)\n\u001b[0m",
            "\u001b[0;32m/usr/local/lib/python3.6/dist-packages/keras/engine/training.py\u001b[0m in \u001b[0;36mfit\u001b[0;34m(self, x, y, batch_size, epochs, verbose, callbacks, validation_split, validation_data, shuffle, class_weight, sample_weight, initial_epoch, steps_per_epoch, validation_steps, **kwargs)\u001b[0m\n\u001b[1;32m   1037\u001b[0m                                         \u001b[0minitial_epoch\u001b[0m\u001b[0;34m=\u001b[0m\u001b[0minitial_epoch\u001b[0m\u001b[0;34m,\u001b[0m\u001b[0;34m\u001b[0m\u001b[0;34m\u001b[0m\u001b[0m\n\u001b[1;32m   1038\u001b[0m                                         \u001b[0msteps_per_epoch\u001b[0m\u001b[0;34m=\u001b[0m\u001b[0msteps_per_epoch\u001b[0m\u001b[0;34m,\u001b[0m\u001b[0;34m\u001b[0m\u001b[0;34m\u001b[0m\u001b[0m\n\u001b[0;32m-> 1039\u001b[0;31m                                         validation_steps=validation_steps)\n\u001b[0m\u001b[1;32m   1040\u001b[0m \u001b[0;34m\u001b[0m\u001b[0m\n\u001b[1;32m   1041\u001b[0m     def evaluate(self, x=None, y=None,\n",
            "\u001b[0;32m/usr/local/lib/python3.6/dist-packages/keras/engine/training_arrays.py\u001b[0m in \u001b[0;36mfit_loop\u001b[0;34m(model, f, ins, out_labels, batch_size, epochs, verbose, callbacks, val_f, val_ins, shuffle, callback_metrics, initial_epoch, steps_per_epoch, validation_steps)\u001b[0m\n\u001b[1;32m    197\u001b[0m                     \u001b[0mins_batch\u001b[0m\u001b[0;34m[\u001b[0m\u001b[0mi\u001b[0m\u001b[0;34m]\u001b[0m \u001b[0;34m=\u001b[0m \u001b[0mins_batch\u001b[0m\u001b[0;34m[\u001b[0m\u001b[0mi\u001b[0m\u001b[0;34m]\u001b[0m\u001b[0;34m.\u001b[0m\u001b[0mtoarray\u001b[0m\u001b[0;34m(\u001b[0m\u001b[0;34m)\u001b[0m\u001b[0;34m\u001b[0m\u001b[0;34m\u001b[0m\u001b[0m\n\u001b[1;32m    198\u001b[0m \u001b[0;34m\u001b[0m\u001b[0m\n\u001b[0;32m--> 199\u001b[0;31m                 \u001b[0mouts\u001b[0m \u001b[0;34m=\u001b[0m \u001b[0mf\u001b[0m\u001b[0;34m(\u001b[0m\u001b[0mins_batch\u001b[0m\u001b[0;34m)\u001b[0m\u001b[0;34m\u001b[0m\u001b[0;34m\u001b[0m\u001b[0m\n\u001b[0m\u001b[1;32m    200\u001b[0m                 \u001b[0mouts\u001b[0m \u001b[0;34m=\u001b[0m \u001b[0mto_list\u001b[0m\u001b[0;34m(\u001b[0m\u001b[0mouts\u001b[0m\u001b[0;34m)\u001b[0m\u001b[0;34m\u001b[0m\u001b[0;34m\u001b[0m\u001b[0m\n\u001b[1;32m    201\u001b[0m                 \u001b[0;32mfor\u001b[0m \u001b[0ml\u001b[0m\u001b[0;34m,\u001b[0m \u001b[0mo\u001b[0m \u001b[0;32min\u001b[0m \u001b[0mzip\u001b[0m\u001b[0;34m(\u001b[0m\u001b[0mout_labels\u001b[0m\u001b[0;34m,\u001b[0m \u001b[0mouts\u001b[0m\u001b[0;34m)\u001b[0m\u001b[0;34m:\u001b[0m\u001b[0;34m\u001b[0m\u001b[0;34m\u001b[0m\u001b[0m\n",
            "\u001b[0;32m/usr/local/lib/python3.6/dist-packages/keras/backend/tensorflow_backend.py\u001b[0m in \u001b[0;36m__call__\u001b[0;34m(self, inputs)\u001b[0m\n\u001b[1;32m   2713\u001b[0m                 \u001b[0;32mreturn\u001b[0m \u001b[0mself\u001b[0m\u001b[0;34m.\u001b[0m\u001b[0m_legacy_call\u001b[0m\u001b[0;34m(\u001b[0m\u001b[0minputs\u001b[0m\u001b[0;34m)\u001b[0m\u001b[0;34m\u001b[0m\u001b[0;34m\u001b[0m\u001b[0m\n\u001b[1;32m   2714\u001b[0m \u001b[0;34m\u001b[0m\u001b[0m\n\u001b[0;32m-> 2715\u001b[0;31m             \u001b[0;32mreturn\u001b[0m \u001b[0mself\u001b[0m\u001b[0;34m.\u001b[0m\u001b[0m_call\u001b[0m\u001b[0;34m(\u001b[0m\u001b[0minputs\u001b[0m\u001b[0;34m)\u001b[0m\u001b[0;34m\u001b[0m\u001b[0;34m\u001b[0m\u001b[0m\n\u001b[0m\u001b[1;32m   2716\u001b[0m         \u001b[0;32melse\u001b[0m\u001b[0;34m:\u001b[0m\u001b[0;34m\u001b[0m\u001b[0;34m\u001b[0m\u001b[0m\n\u001b[1;32m   2717\u001b[0m             \u001b[0;32mif\u001b[0m \u001b[0mpy_any\u001b[0m\u001b[0;34m(\u001b[0m\u001b[0mis_tensor\u001b[0m\u001b[0;34m(\u001b[0m\u001b[0mx\u001b[0m\u001b[0;34m)\u001b[0m \u001b[0;32mfor\u001b[0m \u001b[0mx\u001b[0m \u001b[0;32min\u001b[0m \u001b[0minputs\u001b[0m\u001b[0;34m)\u001b[0m\u001b[0;34m:\u001b[0m\u001b[0;34m\u001b[0m\u001b[0;34m\u001b[0m\u001b[0m\n",
            "\u001b[0;32m/usr/local/lib/python3.6/dist-packages/keras/backend/tensorflow_backend.py\u001b[0m in \u001b[0;36m_call\u001b[0;34m(self, inputs)\u001b[0m\n\u001b[1;32m   2673\u001b[0m             \u001b[0mfetched\u001b[0m \u001b[0;34m=\u001b[0m \u001b[0mself\u001b[0m\u001b[0;34m.\u001b[0m\u001b[0m_callable_fn\u001b[0m\u001b[0;34m(\u001b[0m\u001b[0;34m*\u001b[0m\u001b[0marray_vals\u001b[0m\u001b[0;34m,\u001b[0m \u001b[0mrun_metadata\u001b[0m\u001b[0;34m=\u001b[0m\u001b[0mself\u001b[0m\u001b[0;34m.\u001b[0m\u001b[0mrun_metadata\u001b[0m\u001b[0;34m)\u001b[0m\u001b[0;34m\u001b[0m\u001b[0;34m\u001b[0m\u001b[0m\n\u001b[1;32m   2674\u001b[0m         \u001b[0;32melse\u001b[0m\u001b[0;34m:\u001b[0m\u001b[0;34m\u001b[0m\u001b[0;34m\u001b[0m\u001b[0m\n\u001b[0;32m-> 2675\u001b[0;31m             \u001b[0mfetched\u001b[0m \u001b[0;34m=\u001b[0m \u001b[0mself\u001b[0m\u001b[0;34m.\u001b[0m\u001b[0m_callable_fn\u001b[0m\u001b[0;34m(\u001b[0m\u001b[0;34m*\u001b[0m\u001b[0marray_vals\u001b[0m\u001b[0;34m)\u001b[0m\u001b[0;34m\u001b[0m\u001b[0;34m\u001b[0m\u001b[0m\n\u001b[0m\u001b[1;32m   2676\u001b[0m         \u001b[0;32mreturn\u001b[0m \u001b[0mfetched\u001b[0m\u001b[0;34m[\u001b[0m\u001b[0;34m:\u001b[0m\u001b[0mlen\u001b[0m\u001b[0;34m(\u001b[0m\u001b[0mself\u001b[0m\u001b[0;34m.\u001b[0m\u001b[0moutputs\u001b[0m\u001b[0;34m)\u001b[0m\u001b[0;34m]\u001b[0m\u001b[0;34m\u001b[0m\u001b[0;34m\u001b[0m\u001b[0m\n\u001b[1;32m   2677\u001b[0m \u001b[0;34m\u001b[0m\u001b[0m\n",
            "\u001b[0;32m/usr/local/lib/python3.6/dist-packages/tensorflow/python/client/session.py\u001b[0m in \u001b[0;36m__call__\u001b[0;34m(self, *args, **kwargs)\u001b[0m\n\u001b[1;32m   1456\u001b[0m         ret = tf_session.TF_SessionRunCallable(self._session._session,\n\u001b[1;32m   1457\u001b[0m                                                \u001b[0mself\u001b[0m\u001b[0;34m.\u001b[0m\u001b[0m_handle\u001b[0m\u001b[0;34m,\u001b[0m \u001b[0margs\u001b[0m\u001b[0;34m,\u001b[0m\u001b[0;34m\u001b[0m\u001b[0;34m\u001b[0m\u001b[0m\n\u001b[0;32m-> 1458\u001b[0;31m                                                run_metadata_ptr)\n\u001b[0m\u001b[1;32m   1459\u001b[0m         \u001b[0;32mif\u001b[0m \u001b[0mrun_metadata\u001b[0m\u001b[0;34m:\u001b[0m\u001b[0;34m\u001b[0m\u001b[0;34m\u001b[0m\u001b[0m\n\u001b[1;32m   1460\u001b[0m           \u001b[0mproto_data\u001b[0m \u001b[0;34m=\u001b[0m \u001b[0mtf_session\u001b[0m\u001b[0;34m.\u001b[0m\u001b[0mTF_GetBuffer\u001b[0m\u001b[0;34m(\u001b[0m\u001b[0mrun_metadata_ptr\u001b[0m\u001b[0;34m)\u001b[0m\u001b[0;34m\u001b[0m\u001b[0;34m\u001b[0m\u001b[0m\n",
            "\u001b[0;31mKeyboardInterrupt\u001b[0m: "
          ]
        }
      ]
    },
    {
      "cell_type": "markdown",
      "metadata": {
        "id": "f7qbSwDoHYks",
        "colab_type": "text"
      },
      "source": [
        "**With Regularization:**"
      ]
    },
    {
      "cell_type": "code",
      "metadata": {
        "id": "zH4bjmV0Hdom",
        "colab_type": "code",
        "colab": {}
      },
      "source": [
        "#train loss vs. epochs \n",
        "pd.Series(history.history['loss']).plot(logy=True, label = \"Train Loss\")\n",
        "pd.Series(history.history['val_loss']).plot(logy=True, color='green', label = \"Val Loss\")\n",
        "\n",
        "plt.title(\"Train Loss vs Val Loss - with L1 regularization\")\n",
        "plt.xlabel(\"Epoch\")\n",
        "plt.ylabel(\"Loss (Log)\")\n",
        "plt.legend()\n",
        "\n",
        "y_hat = np.round(model.predict([test.user_id, test.movie_id]),0)\n",
        "y_true = test.rating\n",
        "\n",
        "from sklearn.metrics import mean_absolute_error\n",
        "mean_absolute_error(y_true, y_hat)\n"
      ],
      "execution_count": 0,
      "outputs": []
    },
    {
      "cell_type": "markdown",
      "metadata": {
        "id": "qDuJ523BHVR_",
        "colab_type": "text"
      },
      "source": [
        "**Without Regularization:**"
      ]
    },
    {
      "cell_type": "code",
      "metadata": {
        "id": "p9RXfmzJMkE9",
        "colab_type": "code",
        "outputId": "40727b4b-81fb-4b09-c6a1-442442ff96a1",
        "colab": {
          "base_uri": "https://localhost:8080/",
          "height": 312
        }
      },
      "source": [
        "#train loss vs. epochs \n",
        "pd.Series(history.history['loss']).plot(logy=True, label = \"Train Loss\")\n",
        "pd.Series(history.history['val_loss']).plot(logy=True, color='green', label = \"Val Loss\")\n",
        "\n",
        "plt.title(\"Train Loss vs Val Loss\")\n",
        "plt.xlabel(\"Epoch\")\n",
        "plt.ylabel(\"Loss (Log)\")\n",
        "plt.legend()\n",
        "\n",
        "print(\"This is a clear overfit :) \\n\")"
      ],
      "execution_count": 0,
      "outputs": [
        {
          "output_type": "stream",
          "text": [
            "This is a clear overfit :)\n"
          ],
          "name": "stdout"
        },
        {
          "output_type": "display_data",
          "data": {
            "image/png": "[encoded data removed]",
            "text/plain": [
              "<Figure size 432x288 with 1 Axes>"
            ]
          },
          "metadata": {
            "tags": []
          }
        }
      ]
    },
    {
      "cell_type": "code",
      "metadata": {
        "id": "CDs7ufbSlDNb",
        "colab_type": "code",
        "outputId": "3772aa51-b6bb-4532-bbe3-77f9f820bcd2",
        "colab": {
          "base_uri": "https://localhost:8080/",
          "height": 34
        }
      },
      "source": [
        "y_hat = np.round(model.predict([test.user_id, test.movie_id]),0)\n",
        "y_true = test.rating\n",
        "\n",
        "from sklearn.metrics import mean_absolute_error\n",
        "mean_absolute_error(y_true, y_hat)\n"
      ],
      "execution_count": 0,
      "outputs": [
        {
          "output_type": "execute_result",
          "data": {
            "text/plain": [
              "0.7715"
            ]
          },
          "metadata": {
            "tags": []
          },
          "execution_count": 31
        }
      ]
    },
    {
      "cell_type": "markdown",
      "metadata": {
        "id": "mgayDCObAsWK",
        "colab_type": "text"
      },
      "source": [
        "**Embeddings->NN Architecture**"
      ]
    },
    {
      "cell_type": "code",
      "metadata": {
        "id": "_H_u8NuimfsJ",
        "colab_type": "code",
        "colab": {}
      },
      "source": [
        "n_latent_factors_user = 5\n",
        "n_latent_factors_movie = 8\n",
        "\n",
        "movie_input = keras.layers.Input(shape=[1],name='Movie')\n",
        "movie_embedding = keras.layers.Embedding(n_movies + 1, n_latent_factors_movie, name='Movie-Embedding')(movie_input)\n",
        "movie_vec = keras.layers.Flatten(name='FlattenMovies')(movie_embedding)\n",
        "movie_vec = keras.layers.Dropout(0.012)(movie_vec)\n",
        "\n",
        "\n",
        "user_input = keras.layers.Input(shape=[1],name='User')\n",
        "user_vec = keras.layers.Flatten(name='FlattenUsers')(keras.layers.Embedding(n_users + 1, n_latent_factors_user,\n",
        "                                                                            name='User-Embedding')(user_input))\n",
        "user_vec = keras.layers.Dropout(0.02)(user_vec)\n",
        "\n",
        "\n",
        "concat = keras.layers.concatenate([movie_vec, user_vec], axis= 1, name='Concat')\n",
        "\n",
        "\n",
        "concat_dropout = keras.layers.Dropout(0.2)(concat)\n",
        "dense = keras.layers.Dense(200,name='FullyConnected')(concat)\n",
        "dropout_1 = keras.layers.Dropout(0.2,name='Dropout')(dense)\n",
        "dense_2 = keras.layers.Dense(100,name='FullyConnected-1')(concat)\n",
        "dropout_2 = keras.layers.Dropout(0.2,name='Dropout')(dense_2)\n",
        "dense_3 = keras.layers.Dense(50,name='FullyConnected-2')(dense_2)\n",
        "dropout_3 = keras.layers.Dropout(0.2,name='Dropout')(dense_3)\n",
        "dense_4 = keras.layers.Dense(20,name='FullyConnected-3', activation='relu')(dense_3)\n",
        "\n",
        "\n",
        "result = keras.layers.Dense(1, activation='relu',name='Activation')(dense_4)\n",
        "adam = Adam()\n",
        "model = keras.Model([user_input, movie_input], result)\n",
        "model.compile(optimizer=adam,loss= 'mean_squared_error')"
      ],
      "execution_count": 0,
      "outputs": []
    },
    {
      "cell_type": "code",
      "metadata": {
        "id": "ojUaomrdKCjm",
        "colab_type": "code",
        "outputId": "12a21444-b653-4f8e-98ab-a0d120a90dff",
        "colab": {
          "base_uri": "https://localhost:8080/",
          "height": 979
        }
      },
      "source": [
        "#model visualization\n",
        "SVG(model_to_dot(model,  show_shapes=True, show_layer_names=True, rankdir='HB').create(prog='dot', format='svg'))"
      ],
      "execution_count": 0,
      "outputs": [
        {
          "output_type": "execute_result",
          "data": {
            "text/plain": [
              "<IPython.core.display.SVG object>"
            ],
            "image/svg+xml": "<svg height=\"719pt\" viewBox=\"0.00 0.00 707.50 719.00\" width=\"708pt\" xmlns=\"http://www.w3.org/2000/svg\" xmlns:xlink=\"http://www.w3.org/1999/xlink\">\n<g class=\"graph\" id=\"graph0\" transform=\"scale(1 1) rotate(0) translate(4 715)\">\n<title>G</title>\n<polygon fill=\"#ffffff\" points=\"-4,4 -4,-715 703.5,-715 703.5,4 -4,4\" stroke=\"transparent\"/>\n<!-- 139950899142216 -->\n<g class=\"node\" id=\"node1\">\n<title>139950899142216</title>\n<polygon fill=\"none\" points=\"45.5,-664.5 45.5,-710.5 300.5,-710.5 300.5,-664.5 45.5,-664.5\" stroke=\"#000000\"/>\n<text fill=\"#000000\" font-family=\"Times,serif\" font-size=\"14.00\" text-anchor=\"middle\" x=\"108\" y=\"-683.8\">Movie: InputLayer</text>\n<polyline fill=\"none\" points=\"170.5,-664.5 170.5,-710.5 \" stroke=\"#000000\"/>\n<text fill=\"#000000\" font-family=\"Times,serif\" font-size=\"14.00\" text-anchor=\"middle\" x=\"199.5\" y=\"-695.3\">input:</text>\n<polyline fill=\"none\" points=\"170.5,-687.5 228.5,-687.5 \" stroke=\"#000000\"/>\n<text fill=\"#000000\" font-family=\"Times,serif\" font-size=\"14.00\" text-anchor=\"middle\" x=\"199.5\" y=\"-672.3\">output:</text>\n<polyline fill=\"none\" points=\"228.5,-664.5 228.5,-710.5 \" stroke=\"#000000\"/>\n<text fill=\"#000000\" font-family=\"Times,serif\" font-size=\"14.00\" text-anchor=\"middle\" x=\"264.5\" y=\"-695.3\">(None, 1)</text>\n<polyline fill=\"none\" points=\"228.5,-687.5 300.5,-687.5 \" stroke=\"#000000\"/>\n<text fill=\"#000000\" font-family=\"Times,serif\" font-size=\"14.00\" text-anchor=\"middle\" x=\"264.5\" y=\"-672.3\">(None, 1)</text>\n</g>\n<!-- 139950899141376 -->\n<g class=\"node\" id=\"node3\">\n<title>139950899141376</title>\n<polygon fill=\"none\" points=\"0,-581.5 0,-627.5 346,-627.5 346,-581.5 0,-581.5\" stroke=\"#000000\"/>\n<text fill=\"#000000\" font-family=\"Times,serif\" font-size=\"14.00\" text-anchor=\"middle\" x=\"100.5\" y=\"-600.8\">Movie-Embedding: Embedding</text>\n<polyline fill=\"none\" points=\"201,-581.5 201,-627.5 \" stroke=\"#000000\"/>\n<text fill=\"#000000\" font-family=\"Times,serif\" font-size=\"14.00\" text-anchor=\"middle\" x=\"230\" y=\"-612.3\">input:</text>\n<polyline fill=\"none\" points=\"201,-604.5 259,-604.5 \" stroke=\"#000000\"/>\n<text fill=\"#000000\" font-family=\"Times,serif\" font-size=\"14.00\" text-anchor=\"middle\" x=\"230\" y=\"-589.3\">output:</text>\n<polyline fill=\"none\" points=\"259,-581.5 259,-627.5 \" stroke=\"#000000\"/>\n<text fill=\"#000000\" font-family=\"Times,serif\" font-size=\"14.00\" text-anchor=\"middle\" x=\"302.5\" y=\"-612.3\">(None, 1)</text>\n<polyline fill=\"none\" points=\"259,-604.5 346,-604.5 \" stroke=\"#000000\"/>\n<text fill=\"#000000\" font-family=\"Times,serif\" font-size=\"14.00\" text-anchor=\"middle\" x=\"302.5\" y=\"-589.3\">(None, 1, 8)</text>\n</g>\n<!-- 139950899142216&#45;&gt;139950899141376 -->\n<g class=\"edge\" id=\"edge1\">\n<title>139950899142216-&gt;139950899141376</title>\n<path d=\"M173,-664.3799C173,-656.1745 173,-646.7679 173,-637.8786\" fill=\"none\" stroke=\"#000000\"/>\n<polygon fill=\"#000000\" points=\"176.5001,-637.784 173,-627.784 169.5001,-637.784 176.5001,-637.784\" stroke=\"#000000\"/>\n</g>\n<!-- 139950898901232 -->\n<g class=\"node\" id=\"node2\">\n<title>139950898901232</title>\n<polygon fill=\"none\" points=\"410,-664.5 410,-710.5 654,-710.5 654,-664.5 410,-664.5\" stroke=\"#000000\"/>\n<text fill=\"#000000\" font-family=\"Times,serif\" font-size=\"14.00\" text-anchor=\"middle\" x=\"467\" y=\"-683.8\">User: InputLayer</text>\n<polyline fill=\"none\" points=\"524,-664.5 524,-710.5 \" stroke=\"#000000\"/>\n<text fill=\"#000000\" font-family=\"Times,serif\" font-size=\"14.00\" text-anchor=\"middle\" x=\"553\" y=\"-695.3\">input:</text>\n<polyline fill=\"none\" points=\"524,-687.5 582,-687.5 \" stroke=\"#000000\"/>\n<text fill=\"#000000\" font-family=\"Times,serif\" font-size=\"14.00\" text-anchor=\"middle\" x=\"553\" y=\"-672.3\">output:</text>\n<polyline fill=\"none\" points=\"582,-664.5 582,-710.5 \" stroke=\"#000000\"/>\n<text fill=\"#000000\" font-family=\"Times,serif\" font-size=\"14.00\" text-anchor=\"middle\" x=\"618\" y=\"-695.3\">(None, 1)</text>\n<polyline fill=\"none\" points=\"582,-687.5 654,-687.5 \" stroke=\"#000000\"/>\n<text fill=\"#000000\" font-family=\"Times,serif\" font-size=\"14.00\" text-anchor=\"middle\" x=\"618\" y=\"-672.3\">(None, 1)</text>\n</g>\n<!-- 139950899021808 -->\n<g class=\"node\" id=\"node4\">\n<title>139950899021808</title>\n<polygon fill=\"none\" points=\"364.5,-581.5 364.5,-627.5 699.5,-627.5 699.5,-581.5 364.5,-581.5\" stroke=\"#000000\"/>\n<text fill=\"#000000\" font-family=\"Times,serif\" font-size=\"14.00\" text-anchor=\"middle\" x=\"459.5\" y=\"-600.8\">User-Embedding: Embedding</text>\n<polyline fill=\"none\" points=\"554.5,-581.5 554.5,-627.5 \" stroke=\"#000000\"/>\n<text fill=\"#000000\" font-family=\"Times,serif\" font-size=\"14.00\" text-anchor=\"middle\" x=\"583.5\" y=\"-612.3\">input:</text>\n<polyline fill=\"none\" points=\"554.5,-604.5 612.5,-604.5 \" stroke=\"#000000\"/>\n<text fill=\"#000000\" font-family=\"Times,serif\" font-size=\"14.00\" text-anchor=\"middle\" x=\"583.5\" y=\"-589.3\">output:</text>\n<polyline fill=\"none\" points=\"612.5,-581.5 612.5,-627.5 \" stroke=\"#000000\"/>\n<text fill=\"#000000\" font-family=\"Times,serif\" font-size=\"14.00\" text-anchor=\"middle\" x=\"656\" y=\"-612.3\">(None, 1)</text>\n<polyline fill=\"none\" points=\"612.5,-604.5 699.5,-604.5 \" stroke=\"#000000\"/>\n<text fill=\"#000000\" font-family=\"Times,serif\" font-size=\"14.00\" text-anchor=\"middle\" x=\"656\" y=\"-589.3\">(None, 1, 5)</text>\n</g>\n<!-- 139950898901232&#45;&gt;139950899021808 -->\n<g class=\"edge\" id=\"edge2\">\n<title>139950898901232-&gt;139950899021808</title>\n<path d=\"M532,-664.3799C532,-656.1745 532,-646.7679 532,-637.8786\" fill=\"none\" stroke=\"#000000\"/>\n<polygon fill=\"#000000\" points=\"535.5001,-637.784 532,-627.784 528.5001,-637.784 535.5001,-637.784\" stroke=\"#000000\"/>\n</g>\n<!-- 139950899326088 -->\n<g class=\"node\" id=\"node5\">\n<title>139950899326088</title>\n<polygon fill=\"none\" points=\"56,-498.5 56,-544.5 346,-544.5 346,-498.5 56,-498.5\" stroke=\"#000000\"/>\n<text fill=\"#000000\" font-family=\"Times,serif\" font-size=\"14.00\" text-anchor=\"middle\" x=\"128.5\" y=\"-517.8\">FlattenMovies: Flatten</text>\n<polyline fill=\"none\" points=\"201,-498.5 201,-544.5 \" stroke=\"#000000\"/>\n<text fill=\"#000000\" font-family=\"Times,serif\" font-size=\"14.00\" text-anchor=\"middle\" x=\"230\" y=\"-529.3\">input:</text>\n<polyline fill=\"none\" points=\"201,-521.5 259,-521.5 \" stroke=\"#000000\"/>\n<text fill=\"#000000\" font-family=\"Times,serif\" font-size=\"14.00\" text-anchor=\"middle\" x=\"230\" y=\"-506.3\">output:</text>\n<polyline fill=\"none\" points=\"259,-498.5 259,-544.5 \" stroke=\"#000000\"/>\n<text fill=\"#000000\" font-family=\"Times,serif\" font-size=\"14.00\" text-anchor=\"middle\" x=\"302.5\" y=\"-529.3\">(None, 1, 8)</text>\n<polyline fill=\"none\" points=\"259,-521.5 346,-521.5 \" stroke=\"#000000\"/>\n<text fill=\"#000000\" font-family=\"Times,serif\" font-size=\"14.00\" text-anchor=\"middle\" x=\"302.5\" y=\"-506.3\">(None, 8)</text>\n</g>\n<!-- 139950899141376&#45;&gt;139950899326088 -->\n<g class=\"edge\" id=\"edge3\">\n<title>139950899141376-&gt;139950899326088</title>\n<path d=\"M180.7996,-581.3799C183.6278,-572.9962 186.8791,-563.3584 189.9351,-554.2996\" fill=\"none\" stroke=\"#000000\"/>\n<polygon fill=\"#000000\" points=\"193.265,-555.3782 193.1452,-544.784 186.6322,-553.1406 193.265,-555.3782\" stroke=\"#000000\"/>\n</g>\n<!-- 139950898901288 -->\n<g class=\"node\" id=\"node6\">\n<title>139950898901288</title>\n<polygon fill=\"none\" points=\"378.5,-498.5 378.5,-544.5 657.5,-544.5 657.5,-498.5 378.5,-498.5\" stroke=\"#000000\"/>\n<text fill=\"#000000\" font-family=\"Times,serif\" font-size=\"14.00\" text-anchor=\"middle\" x=\"445.5\" y=\"-517.8\">FlattenUsers: Flatten</text>\n<polyline fill=\"none\" points=\"512.5,-498.5 512.5,-544.5 \" stroke=\"#000000\"/>\n<text fill=\"#000000\" font-family=\"Times,serif\" font-size=\"14.00\" text-anchor=\"middle\" x=\"541.5\" y=\"-529.3\">input:</text>\n<polyline fill=\"none\" points=\"512.5,-521.5 570.5,-521.5 \" stroke=\"#000000\"/>\n<text fill=\"#000000\" font-family=\"Times,serif\" font-size=\"14.00\" text-anchor=\"middle\" x=\"541.5\" y=\"-506.3\">output:</text>\n<polyline fill=\"none\" points=\"570.5,-498.5 570.5,-544.5 \" stroke=\"#000000\"/>\n<text fill=\"#000000\" font-family=\"Times,serif\" font-size=\"14.00\" text-anchor=\"middle\" x=\"614\" y=\"-529.3\">(None, 1, 5)</text>\n<polyline fill=\"none\" points=\"570.5,-521.5 657.5,-521.5 \" stroke=\"#000000\"/>\n<text fill=\"#000000\" font-family=\"Times,serif\" font-size=\"14.00\" text-anchor=\"middle\" x=\"614\" y=\"-506.3\">(None, 5)</text>\n</g>\n<!-- 139950899021808&#45;&gt;139950898901288 -->\n<g class=\"edge\" id=\"edge4\">\n<title>139950899021808-&gt;139950898901288</title>\n<path d=\"M528.1002,-581.3799C526.7162,-573.1745 525.1295,-563.7679 523.6301,-554.8786\" fill=\"none\" stroke=\"#000000\"/>\n<polygon fill=\"#000000\" points=\"527.042,-554.0625 521.9274,-544.784 520.1395,-555.2269 527.042,-554.0625\" stroke=\"#000000\"/>\n</g>\n<!-- 139950899494080 -->\n<g class=\"node\" id=\"node7\">\n<title>139950899494080</title>\n<polygon fill=\"none\" points=\"72.5,-415.5 72.5,-461.5 343.5,-461.5 343.5,-415.5 72.5,-415.5\" stroke=\"#000000\"/>\n<text fill=\"#000000\" font-family=\"Times,serif\" font-size=\"14.00\" text-anchor=\"middle\" x=\"143\" y=\"-434.8\">dropout_15: Dropout</text>\n<polyline fill=\"none\" points=\"213.5,-415.5 213.5,-461.5 \" stroke=\"#000000\"/>\n<text fill=\"#000000\" font-family=\"Times,serif\" font-size=\"14.00\" text-anchor=\"middle\" x=\"242.5\" y=\"-446.3\">input:</text>\n<polyline fill=\"none\" points=\"213.5,-438.5 271.5,-438.5 \" stroke=\"#000000\"/>\n<text fill=\"#000000\" font-family=\"Times,serif\" font-size=\"14.00\" text-anchor=\"middle\" x=\"242.5\" y=\"-423.3\">output:</text>\n<polyline fill=\"none\" points=\"271.5,-415.5 271.5,-461.5 \" stroke=\"#000000\"/>\n<text fill=\"#000000\" font-family=\"Times,serif\" font-size=\"14.00\" text-anchor=\"middle\" x=\"307.5\" y=\"-446.3\">(None, 8)</text>\n<polyline fill=\"none\" points=\"271.5,-438.5 343.5,-438.5 \" stroke=\"#000000\"/>\n<text fill=\"#000000\" font-family=\"Times,serif\" font-size=\"14.00\" text-anchor=\"middle\" x=\"307.5\" y=\"-423.3\">(None, 8)</text>\n</g>\n<!-- 139950899326088&#45;&gt;139950899494080 -->\n<g class=\"edge\" id=\"edge5\">\n<title>139950899326088-&gt;139950899494080</title>\n<path d=\"M202.9499,-498.3799C203.6419,-490.1745 204.4352,-480.7679 205.1849,-471.8786\" fill=\"none\" stroke=\"#000000\"/>\n<polygon fill=\"#000000\" points=\"208.6834,-472.0428 206.0363,-461.784 201.7082,-471.4545 208.6834,-472.0428\" stroke=\"#000000\"/>\n</g>\n<!-- 139950898901400 -->\n<g class=\"node\" id=\"node8\">\n<title>139950898901400</title>\n<polygon fill=\"none\" points=\"371.5,-415.5 371.5,-461.5 642.5,-461.5 642.5,-415.5 371.5,-415.5\" stroke=\"#000000\"/>\n<text fill=\"#000000\" font-family=\"Times,serif\" font-size=\"14.00\" text-anchor=\"middle\" x=\"442\" y=\"-434.8\">dropout_16: Dropout</text>\n<polyline fill=\"none\" points=\"512.5,-415.5 512.5,-461.5 \" stroke=\"#000000\"/>\n<text fill=\"#000000\" font-family=\"Times,serif\" font-size=\"14.00\" text-anchor=\"middle\" x=\"541.5\" y=\"-446.3\">input:</text>\n<polyline fill=\"none\" points=\"512.5,-438.5 570.5,-438.5 \" stroke=\"#000000\"/>\n<text fill=\"#000000\" font-family=\"Times,serif\" font-size=\"14.00\" text-anchor=\"middle\" x=\"541.5\" y=\"-423.3\">output:</text>\n<polyline fill=\"none\" points=\"570.5,-415.5 570.5,-461.5 \" stroke=\"#000000\"/>\n<text fill=\"#000000\" font-family=\"Times,serif\" font-size=\"14.00\" text-anchor=\"middle\" x=\"606.5\" y=\"-446.3\">(None, 5)</text>\n<polyline fill=\"none\" points=\"570.5,-438.5 642.5,-438.5 \" stroke=\"#000000\"/>\n<text fill=\"#000000\" font-family=\"Times,serif\" font-size=\"14.00\" text-anchor=\"middle\" x=\"606.5\" y=\"-423.3\">(None, 5)</text>\n</g>\n<!-- 139950898901288&#45;&gt;139950898901400 -->\n<g class=\"edge\" id=\"edge6\">\n<title>139950898901288-&gt;139950898901400</title>\n<path d=\"M514.9359,-498.3799C513.8484,-490.1745 512.6018,-480.7679 511.4237,-471.8786\" fill=\"none\" stroke=\"#000000\"/>\n<polygon fill=\"#000000\" points=\"514.8694,-471.2375 510.0858,-461.784 507.9301,-472.1572 514.8694,-471.2375\" stroke=\"#000000\"/>\n</g>\n<!-- 139950899022312 -->\n<g class=\"node\" id=\"node9\">\n<title>139950899022312</title>\n<polygon fill=\"none\" points=\"184,-332.5 184,-378.5 520,-378.5 520,-332.5 184,-332.5\" stroke=\"#000000\"/>\n<text fill=\"#000000\" font-family=\"Times,serif\" font-size=\"14.00\" text-anchor=\"middle\" x=\"251\" y=\"-351.8\">Concat: Concatenate</text>\n<polyline fill=\"none\" points=\"318,-332.5 318,-378.5 \" stroke=\"#000000\"/>\n<text fill=\"#000000\" font-family=\"Times,serif\" font-size=\"14.00\" text-anchor=\"middle\" x=\"347\" y=\"-363.3\">input:</text>\n<polyline fill=\"none\" points=\"318,-355.5 376,-355.5 \" stroke=\"#000000\"/>\n<text fill=\"#000000\" font-family=\"Times,serif\" font-size=\"14.00\" text-anchor=\"middle\" x=\"347\" y=\"-340.3\">output:</text>\n<polyline fill=\"none\" points=\"376,-332.5 376,-378.5 \" stroke=\"#000000\"/>\n<text fill=\"#000000\" font-family=\"Times,serif\" font-size=\"14.00\" text-anchor=\"middle\" x=\"448\" y=\"-363.3\">[(None, 8), (None, 5)]</text>\n<polyline fill=\"none\" points=\"376,-355.5 520,-355.5 \" stroke=\"#000000\"/>\n<text fill=\"#000000\" font-family=\"Times,serif\" font-size=\"14.00\" text-anchor=\"middle\" x=\"448\" y=\"-340.3\">(None, 13)</text>\n</g>\n<!-- 139950899494080&#45;&gt;139950899022312 -->\n<g class=\"edge\" id=\"edge7\">\n<title>139950899494080-&gt;139950899022312</title>\n<path d=\"M248.112,-415.3799C265.0492,-405.6175 284.9366,-394.1546 302.7524,-383.8857\" fill=\"none\" stroke=\"#000000\"/>\n<polygon fill=\"#000000\" points=\"304.9375,-386.6661 311.8536,-378.6399 301.4419,-380.6014 304.9375,-386.6661\" stroke=\"#000000\"/>\n</g>\n<!-- 139950898901400&#45;&gt;139950899022312 -->\n<g class=\"edge\" id=\"edge8\">\n<title>139950898901400-&gt;139950899022312</title>\n<path d=\"M463.8239,-415.3799C445.342,-405.4832 423.5966,-393.8388 404.2191,-383.4625\" fill=\"none\" stroke=\"#000000\"/>\n<polygon fill=\"#000000\" points=\"405.6811,-380.2752 395.2132,-378.6399 402.3766,-386.4461 405.6811,-380.2752\" stroke=\"#000000\"/>\n</g>\n<!-- 139950898352816 -->\n<g class=\"node\" id=\"node10\">\n<title>139950898352816</title>\n<polygon fill=\"none\" points=\"197.5,-249.5 197.5,-295.5 506.5,-295.5 506.5,-249.5 197.5,-249.5\" stroke=\"#000000\"/>\n<text fill=\"#000000\" font-family=\"Times,serif\" font-size=\"14.00\" text-anchor=\"middle\" x=\"279.5\" y=\"-268.8\">FullyConnected-1: Dense</text>\n<polyline fill=\"none\" points=\"361.5,-249.5 361.5,-295.5 \" stroke=\"#000000\"/>\n<text fill=\"#000000\" font-family=\"Times,serif\" font-size=\"14.00\" text-anchor=\"middle\" x=\"390.5\" y=\"-280.3\">input:</text>\n<polyline fill=\"none\" points=\"361.5,-272.5 419.5,-272.5 \" stroke=\"#000000\"/>\n<text fill=\"#000000\" font-family=\"Times,serif\" font-size=\"14.00\" text-anchor=\"middle\" x=\"390.5\" y=\"-257.3\">output:</text>\n<polyline fill=\"none\" points=\"419.5,-249.5 419.5,-295.5 \" stroke=\"#000000\"/>\n<text fill=\"#000000\" font-family=\"Times,serif\" font-size=\"14.00\" text-anchor=\"middle\" x=\"463\" y=\"-280.3\">(None, 13)</text>\n<polyline fill=\"none\" points=\"419.5,-272.5 506.5,-272.5 \" stroke=\"#000000\"/>\n<text fill=\"#000000\" font-family=\"Times,serif\" font-size=\"14.00\" text-anchor=\"middle\" x=\"463\" y=\"-257.3\">(None, 100)</text>\n</g>\n<!-- 139950899022312&#45;&gt;139950898352816 -->\n<g class=\"edge\" id=\"edge9\">\n<title>139950899022312-&gt;139950898352816</title>\n<path d=\"M352,-332.3799C352,-324.1745 352,-314.7679 352,-305.8786\" fill=\"none\" stroke=\"#000000\"/>\n<polygon fill=\"#000000\" points=\"355.5001,-305.784 352,-295.784 348.5001,-305.784 355.5001,-305.784\" stroke=\"#000000\"/>\n</g>\n<!-- 139950897754464 -->\n<g class=\"node\" id=\"node11\">\n<title>139950897754464</title>\n<polygon fill=\"none\" points=\"197.5,-166.5 197.5,-212.5 506.5,-212.5 506.5,-166.5 197.5,-166.5\" stroke=\"#000000\"/>\n<text fill=\"#000000\" font-family=\"Times,serif\" font-size=\"14.00\" text-anchor=\"middle\" x=\"279.5\" y=\"-185.8\">FullyConnected-2: Dense</text>\n<polyline fill=\"none\" points=\"361.5,-166.5 361.5,-212.5 \" stroke=\"#000000\"/>\n<text fill=\"#000000\" font-family=\"Times,serif\" font-size=\"14.00\" text-anchor=\"middle\" x=\"390.5\" y=\"-197.3\">input:</text>\n<polyline fill=\"none\" points=\"361.5,-189.5 419.5,-189.5 \" stroke=\"#000000\"/>\n<text fill=\"#000000\" font-family=\"Times,serif\" font-size=\"14.00\" text-anchor=\"middle\" x=\"390.5\" y=\"-174.3\">output:</text>\n<polyline fill=\"none\" points=\"419.5,-166.5 419.5,-212.5 \" stroke=\"#000000\"/>\n<text fill=\"#000000\" font-family=\"Times,serif\" font-size=\"14.00\" text-anchor=\"middle\" x=\"463\" y=\"-197.3\">(None, 100)</text>\n<polyline fill=\"none\" points=\"419.5,-189.5 506.5,-189.5 \" stroke=\"#000000\"/>\n<text fill=\"#000000\" font-family=\"Times,serif\" font-size=\"14.00\" text-anchor=\"middle\" x=\"463\" y=\"-174.3\">(None, 50)</text>\n</g>\n<!-- 139950898352816&#45;&gt;139950897754464 -->\n<g class=\"edge\" id=\"edge10\">\n<title>139950898352816-&gt;139950897754464</title>\n<path d=\"M352,-249.3799C352,-241.1745 352,-231.7679 352,-222.8786\" fill=\"none\" stroke=\"#000000\"/>\n<polygon fill=\"#000000\" points=\"355.5001,-222.784 352,-212.784 348.5001,-222.784 355.5001,-222.784\" stroke=\"#000000\"/>\n</g>\n<!-- 139950897541528 -->\n<g class=\"node\" id=\"node12\">\n<title>139950897541528</title>\n<polygon fill=\"none\" points=\"201,-83.5 201,-129.5 503,-129.5 503,-83.5 201,-83.5\" stroke=\"#000000\"/>\n<text fill=\"#000000\" font-family=\"Times,serif\" font-size=\"14.00\" text-anchor=\"middle\" x=\"283\" y=\"-102.8\">FullyConnected-3: Dense</text>\n<polyline fill=\"none\" points=\"365,-83.5 365,-129.5 \" stroke=\"#000000\"/>\n<text fill=\"#000000\" font-family=\"Times,serif\" font-size=\"14.00\" text-anchor=\"middle\" x=\"394\" y=\"-114.3\">input:</text>\n<polyline fill=\"none\" points=\"365,-106.5 423,-106.5 \" stroke=\"#000000\"/>\n<text fill=\"#000000\" font-family=\"Times,serif\" font-size=\"14.00\" text-anchor=\"middle\" x=\"394\" y=\"-91.3\">output:</text>\n<polyline fill=\"none\" points=\"423,-83.5 423,-129.5 \" stroke=\"#000000\"/>\n<text fill=\"#000000\" font-family=\"Times,serif\" font-size=\"14.00\" text-anchor=\"middle\" x=\"463\" y=\"-114.3\">(None, 50)</text>\n<polyline fill=\"none\" points=\"423,-106.5 503,-106.5 \" stroke=\"#000000\"/>\n<text fill=\"#000000\" font-family=\"Times,serif\" font-size=\"14.00\" text-anchor=\"middle\" x=\"463\" y=\"-91.3\">(None, 20)</text>\n</g>\n<!-- 139950897754464&#45;&gt;139950897541528 -->\n<g class=\"edge\" id=\"edge11\">\n<title>139950897754464-&gt;139950897541528</title>\n<path d=\"M352,-166.3799C352,-158.1745 352,-148.7679 352,-139.8786\" fill=\"none\" stroke=\"#000000\"/>\n<polygon fill=\"#000000\" points=\"355.5001,-139.784 352,-129.784 348.5001,-139.784 355.5001,-139.784\" stroke=\"#000000\"/>\n</g>\n<!-- 139950897541248 -->\n<g class=\"node\" id=\"node13\">\n<title>139950897541248</title>\n<polygon fill=\"none\" points=\"223.5,-.5 223.5,-46.5 480.5,-46.5 480.5,-.5 223.5,-.5\" stroke=\"#000000\"/>\n<text fill=\"#000000\" font-family=\"Times,serif\" font-size=\"14.00\" text-anchor=\"middle\" x=\"283\" y=\"-19.8\">Activation: Dense</text>\n<polyline fill=\"none\" points=\"342.5,-.5 342.5,-46.5 \" stroke=\"#000000\"/>\n<text fill=\"#000000\" font-family=\"Times,serif\" font-size=\"14.00\" text-anchor=\"middle\" x=\"371.5\" y=\"-31.3\">input:</text>\n<polyline fill=\"none\" points=\"342.5,-23.5 400.5,-23.5 \" stroke=\"#000000\"/>\n<text fill=\"#000000\" font-family=\"Times,serif\" font-size=\"14.00\" text-anchor=\"middle\" x=\"371.5\" y=\"-8.3\">output:</text>\n<polyline fill=\"none\" points=\"400.5,-.5 400.5,-46.5 \" stroke=\"#000000\"/>\n<text fill=\"#000000\" font-family=\"Times,serif\" font-size=\"14.00\" text-anchor=\"middle\" x=\"440.5\" y=\"-31.3\">(None, 20)</text>\n<polyline fill=\"none\" points=\"400.5,-23.5 480.5,-23.5 \" stroke=\"#000000\"/>\n<text fill=\"#000000\" font-family=\"Times,serif\" font-size=\"14.00\" text-anchor=\"middle\" x=\"440.5\" y=\"-8.3\">(None, 1)</text>\n</g>\n<!-- 139950897541528&#45;&gt;139950897541248 -->\n<g class=\"edge\" id=\"edge12\">\n<title>139950897541528-&gt;139950897541248</title>\n<path d=\"M352,-83.3799C352,-75.1745 352,-65.7679 352,-56.8786\" fill=\"none\" stroke=\"#000000\"/>\n<polygon fill=\"#000000\" points=\"355.5001,-56.784 352,-46.784 348.5001,-56.784 355.5001,-56.784\" stroke=\"#000000\"/>\n</g>\n</g>\n</svg>"
          },
          "metadata": {
            "tags": []
          },
          "execution_count": 62
        }
      ]
    },
    {
      "cell_type": "code",
      "metadata": {
        "id": "85pVufmtKduk",
        "colab_type": "code",
        "outputId": "a0ea319c-bfb5-46f9-f5e7-0f68c448c474",
        "colab": {
          "base_uri": "https://localhost:8080/",
          "height": 1000
        }
      },
      "source": [
        "history = model.fit([train.user_id, train.movie_id], train.rating, epochs=50, \n",
        "                    validation_split=0.2, verbose=1)"
      ],
      "execution_count": 0,
      "outputs": [
        {
          "output_type": "stream",
          "text": [
            "Train on 64000 samples, validate on 16000 samples\n",
            "Epoch 1/50\n",
            "64000/64000 [==============================] - 10s 152us/step - loss: 1.1961 - val_loss: 0.9325\n",
            "Epoch 2/50\n",
            "64000/64000 [==============================] - 9s 133us/step - loss: 0.8980 - val_loss: 0.9178\n",
            "Epoch 3/50\n",
            "64000/64000 [==============================] - 9s 133us/step - loss: 0.8873 - val_loss: 0.9195\n",
            "Epoch 4/50\n",
            "64000/64000 [==============================] - 8s 133us/step - loss: 0.8769 - val_loss: 0.9051\n",
            "Epoch 5/50\n",
            "64000/64000 [==============================] - 9s 133us/step - loss: 0.8739 - val_loss: 0.9064\n",
            "Epoch 6/50\n",
            "64000/64000 [==============================] - 9s 134us/step - loss: 0.8700 - val_loss: 0.9048\n",
            "Epoch 7/50\n",
            "64000/64000 [==============================] - 9s 134us/step - loss: 0.8658 - val_loss: 0.9081\n",
            "Epoch 8/50\n",
            "64000/64000 [==============================] - 8s 133us/step - loss: 0.8572 - val_loss: 0.8882\n",
            "Epoch 9/50\n",
            "64000/64000 [==============================] - 9s 134us/step - loss: 0.8413 - val_loss: 0.8895\n",
            "Epoch 10/50\n",
            "64000/64000 [==============================] - 9s 138us/step - loss: 0.8278 - val_loss: 0.9243\n",
            "Epoch 11/50\n",
            "64000/64000 [==============================] - 9s 133us/step - loss: 0.8206 - val_loss: 0.9099\n",
            "Epoch 12/50\n",
            "64000/64000 [==============================] - 8s 133us/step - loss: 0.8115 - val_loss: 0.8857\n",
            "Epoch 13/50\n",
            "64000/64000 [==============================] - 8s 132us/step - loss: 0.8055 - val_loss: 0.8894\n",
            "Epoch 14/50\n",
            "64000/64000 [==============================] - 9s 134us/step - loss: 0.7986 - val_loss: 0.9195\n",
            "Epoch 15/50\n",
            "64000/64000 [==============================] - 9s 133us/step - loss: 0.7944 - val_loss: 0.8960\n",
            "Epoch 16/50\n",
            "64000/64000 [==============================] - 9s 133us/step - loss: 0.7884 - val_loss: 0.8867\n",
            "Epoch 17/50\n",
            "64000/64000 [==============================] - 9s 133us/step - loss: 0.7840 - val_loss: 0.8825\n",
            "Epoch 18/50\n",
            "64000/64000 [==============================] - 9s 133us/step - loss: 0.7811 - val_loss: 0.8875\n",
            "Epoch 19/50\n",
            "64000/64000 [==============================] - 8s 133us/step - loss: 0.7755 - val_loss: 0.8916\n",
            "Epoch 20/50\n",
            "64000/64000 [==============================] - 9s 133us/step - loss: 0.7734 - val_loss: 0.8894\n",
            "Epoch 21/50\n",
            "64000/64000 [==============================] - 9s 133us/step - loss: 0.7724 - val_loss: 0.9018\n",
            "Epoch 22/50\n",
            "64000/64000 [==============================] - 8s 132us/step - loss: 0.7691 - val_loss: 0.8986\n",
            "Epoch 23/50\n",
            "64000/64000 [==============================] - 8s 133us/step - loss: 0.7649 - val_loss: 0.8995\n",
            "Epoch 24/50\n",
            "64000/64000 [==============================] - 8s 132us/step - loss: 0.7646 - val_loss: 0.8870\n",
            "Epoch 25/50\n",
            "64000/64000 [==============================] - 8s 132us/step - loss: 0.7612 - val_loss: 0.8882\n",
            "Epoch 26/50\n",
            "64000/64000 [==============================] - 8s 133us/step - loss: 0.7594 - val_loss: 0.8875\n",
            "Epoch 27/50\n",
            "64000/64000 [==============================] - 8s 132us/step - loss: 0.7532 - val_loss: 0.9010\n",
            "Epoch 28/50\n",
            "64000/64000 [==============================] - 8s 132us/step - loss: 0.7501 - val_loss: 0.8990\n",
            "Epoch 29/50\n",
            "64000/64000 [==============================] - 8s 132us/step - loss: 0.7440 - val_loss: 0.8910\n",
            "Epoch 30/50\n",
            "64000/64000 [==============================] - 8s 133us/step - loss: 0.7389 - val_loss: 0.9016\n",
            "Epoch 31/50\n",
            "64000/64000 [==============================] - 8s 131us/step - loss: 0.7346 - val_loss: 0.8957\n",
            "Epoch 32/50\n",
            "64000/64000 [==============================] - 8s 133us/step - loss: 0.7307 - val_loss: 0.9006\n",
            "Epoch 33/50\n",
            "64000/64000 [==============================] - 8s 133us/step - loss: 0.7265 - val_loss: 0.8996\n",
            "Epoch 34/50\n",
            "64000/64000 [==============================] - 8s 131us/step - loss: 0.7210 - val_loss: 0.9049\n",
            "Epoch 35/50\n",
            "64000/64000 [==============================] - 8s 132us/step - loss: 0.7176 - val_loss: 0.9064\n",
            "Epoch 36/50\n",
            "64000/64000 [==============================] - 8s 133us/step - loss: 0.7145 - val_loss: 0.9037\n",
            "Epoch 37/50\n",
            "64000/64000 [==============================] - 8s 132us/step - loss: 0.7125 - val_loss: 0.8963\n",
            "Epoch 38/50\n",
            "64000/64000 [==============================] - 8s 131us/step - loss: 0.7089 - val_loss: 0.9166\n",
            "Epoch 39/50\n",
            "64000/64000 [==============================] - 8s 131us/step - loss: 0.7075 - val_loss: 0.9090\n",
            "Epoch 40/50\n",
            "64000/64000 [==============================] - 8s 131us/step - loss: 0.7046 - val_loss: 0.9112\n",
            "Epoch 41/50\n",
            "64000/64000 [==============================] - 8s 132us/step - loss: 0.7019 - val_loss: 0.9215\n",
            "Epoch 42/50\n",
            "64000/64000 [==============================] - 8s 133us/step - loss: 0.6984 - val_loss: 0.9064\n",
            "Epoch 43/50\n",
            "64000/64000 [==============================] - 9s 134us/step - loss: 0.6954 - val_loss: 0.9119\n",
            "Epoch 44/50\n",
            "64000/64000 [==============================] - 8s 132us/step - loss: 0.6935 - val_loss: 0.9133\n",
            "Epoch 45/50\n",
            "64000/64000 [==============================] - 8s 130us/step - loss: 0.6913 - val_loss: 0.9222\n",
            "Epoch 46/50\n",
            "64000/64000 [==============================] - 9s 133us/step - loss: 0.6861 - val_loss: 0.9281\n",
            "Epoch 47/50\n",
            "64000/64000 [==============================] - 9s 133us/step - loss: 0.6866 - val_loss: 0.9187\n",
            "Epoch 48/50\n",
            "64000/64000 [==============================] - 8s 129us/step - loss: 0.6809 - val_loss: 0.9254\n",
            "Epoch 49/50\n",
            "64000/64000 [==============================] - 8s 129us/step - loss: 0.6810 - val_loss: 0.9290\n",
            "Epoch 50/50\n",
            "64000/64000 [==============================] - 8s 130us/step - loss: 0.6772 - val_loss: 0.9425\n"
          ],
          "name": "stdout"
        }
      ]
    },
    {
      "cell_type": "code",
      "metadata": {
        "id": "QuX4v1LXKkpd",
        "colab_type": "code",
        "outputId": "c3d124ac-2abb-46d5-f7cf-2dc78dcb264d",
        "colab": {
          "base_uri": "https://localhost:8080/",
          "height": 332
        }
      },
      "source": [
        "#train loss vs. epochs \n",
        "pd.Series(history.history['loss']).plot(logy=True, label = \"Train Loss\")\n",
        "pd.Series(history.history['val_loss']).plot(logy=True, color='green', label = \"Val Loss\")\n",
        "\n",
        "plt.title(\"Train Loss vs Val Loss - with Dropo regularization\")\n",
        "plt.xlabel(\"Epoch\")\n",
        "plt.ylabel(\"Loss (Log)\")\n",
        "plt.legend()\n",
        "\n",
        "y_hat = np.round(model.predict([test.user_id, test.movie_id]),0)\n",
        "y_true = test.rating\n",
        "\n",
        "from sklearn.metrics import mean_absolute_error\n",
        "mean_absolute_error(y_true, y_hat)\n"
      ],
      "execution_count": 0,
      "outputs": [
        {
          "output_type": "execute_result",
          "data": {
            "text/plain": [
              "0.7235"
            ]
          },
          "metadata": {
            "tags": []
          },
          "execution_count": 67
        },
        {
          "output_type": "display_data",
          "data": {
            "image/png": "[encoded data removed]",
            "text/plain": [
              "<Figure size 432x288 with 1 Axes>"
            ]
          },
          "metadata": {
            "tags": []
          }
        }
      ]
    },
    {
      "cell_type": "code",
      "metadata": {
        "id": "vKPLCCStaGZ6",
        "colab_type": "code",
        "outputId": "42d26464-775d-4d5b-a702-21bb27d7399d",
        "colab": {
          "base_uri": "https://localhost:8080/",
          "height": 138
        }
      },
      "source": [
        "#Matedata Exploration\n",
        "\n",
        "# users_cols = ['user_id', 'age', 'sex', 'occupation', 'zip_code']\n",
        "userinfo = pd.read_csv(\n",
        "    'ml-100k/u.info', sep='', names=users_cols, encoding='latin-1')\n",
        "userinfo\n"
      ],
      "execution_count": 0,
      "outputs": [
        {
          "output_type": "execute_result",
          "data": {
            "text/html": [
              "<div>\n",
              "<style scoped>\n",
              "    .dataframe tbody tr th:only-of-type {\n",
              "        vertical-align: middle;\n",
              "    }\n",
              "\n",
              "    .dataframe tbody tr th {\n",
              "        vertical-align: top;\n",
              "    }\n",
              "\n",
              "    .dataframe thead th {\n",
              "        text-align: right;\n",
              "    }\n",
              "</style>\n",
              "<table border=\"1\" class=\"dataframe\">\n",
              "  <thead>\n",
              "    <tr style=\"text-align: right;\">\n",
              "      <th></th>\n",
              "      <th>user_id</th>\n",
              "      <th>age</th>\n",
              "      <th>sex</th>\n",
              "      <th>occupation</th>\n",
              "      <th>zip_code</th>\n",
              "    </tr>\n",
              "  </thead>\n",
              "  <tbody>\n",
              "    <tr>\n",
              "      <th>0</th>\n",
              "      <td>943 users</td>\n",
              "      <td>NaN</td>\n",
              "      <td>NaN</td>\n",
              "      <td>NaN</td>\n",
              "      <td>NaN</td>\n",
              "    </tr>\n",
              "    <tr>\n",
              "      <th>1</th>\n",
              "      <td>1682 items</td>\n",
              "      <td>NaN</td>\n",
              "      <td>NaN</td>\n",
              "      <td>NaN</td>\n",
              "      <td>NaN</td>\n",
              "    </tr>\n",
              "    <tr>\n",
              "      <th>2</th>\n",
              "      <td>100000 ratings</td>\n",
              "      <td>NaN</td>\n",
              "      <td>NaN</td>\n",
              "      <td>NaN</td>\n",
              "      <td>NaN</td>\n",
              "    </tr>\n",
              "  </tbody>\n",
              "</table>\n",
              "</div>"
            ],
            "text/plain": [
              "          user_id  age  sex  occupation  zip_code\n",
              "0       943 users  NaN  NaN         NaN       NaN\n",
              "1      1682 items  NaN  NaN         NaN       NaN\n",
              "2  100000 ratings  NaN  NaN         NaN       NaN"
            ]
          },
          "metadata": {
            "tags": []
          },
          "execution_count": 13
        }
      ]
    },
    {
      "cell_type": "code",
      "metadata": {
        "id": "cV_cwsmNX5Xf",
        "colab_type": "code",
        "outputId": "4713de84-c07f-4573-fb98-8c7a97b34d3c",
        "colab": {
          "base_uri": "https://localhost:8080/",
          "height": 467
        }
      },
      "source": [
        "# Reading ratings file\n",
        "ratings = pd.read_csv('ratings.csv', sep='\\t', encoding='latin-1', \n",
        "                      usecols=['user_id', 'movie_id', 'user_emb_id', 'movie_emb_id', 'rating'])\n",
        "max_userid = ratings['user_id'].drop_duplicates().max()\n",
        "max_movieid = ratings['movie_id'].drop_duplicates().max()\n",
        "\n",
        "# Reading ratings file\n",
        "users = pd.read_csv('users.csv', sep='\\t', encoding='latin-1', \n",
        "                    usecols=['user_id', 'gender', 'zipcode', 'age_desc', 'occ_desc'])\n",
        "\n",
        "# Reading ratings file\n",
        "movies = pd.read_csv('movies.csv', sep='\\t', encoding='latin-1', \n",
        "                     usecols=['movie_id', 'title', 'genres'])\n"
      ],
      "execution_count": 0,
      "outputs": [
        {
          "output_type": "error",
          "ename": "FileNotFoundError",
          "evalue": "ignored",
          "traceback": [
            "\u001b[0;31m---------------------------------------------------------------------------\u001b[0m",
            "\u001b[0;31mFileNotFoundError\u001b[0m                         Traceback (most recent call last)",
            "\u001b[0;32m<ipython-input-136-782997a54e14>\u001b[0m in \u001b[0;36m<module>\u001b[0;34m()\u001b[0m\n\u001b[0;32m----> 1\u001b[0;31m \u001b[0mratings\u001b[0m \u001b[0;34m=\u001b[0m \u001b[0mpd\u001b[0m\u001b[0;34m.\u001b[0m\u001b[0mread_csv\u001b[0m\u001b[0;34m(\u001b[0m\u001b[0;34m'ratings.csv'\u001b[0m\u001b[0;34m,\u001b[0m \u001b[0msep\u001b[0m\u001b[0;34m=\u001b[0m\u001b[0;34m','\u001b[0m\u001b[0;34m)\u001b[0m\u001b[0;34m\u001b[0m\u001b[0;34m\u001b[0m\u001b[0m\n\u001b[0m\u001b[1;32m      2\u001b[0m \u001b[0mmax_userid\u001b[0m \u001b[0;34m=\u001b[0m \u001b[0mratings\u001b[0m\u001b[0;34m[\u001b[0m\u001b[0;34m'user_id'\u001b[0m\u001b[0;34m]\u001b[0m\u001b[0;34m.\u001b[0m\u001b[0mdrop_duplicates\u001b[0m\u001b[0;34m(\u001b[0m\u001b[0;34m)\u001b[0m\u001b[0;34m.\u001b[0m\u001b[0mmax\u001b[0m\u001b[0;34m(\u001b[0m\u001b[0;34m)\u001b[0m\u001b[0;34m\u001b[0m\u001b[0;34m\u001b[0m\u001b[0m\n\u001b[1;32m      3\u001b[0m \u001b[0mmax_movieid\u001b[0m \u001b[0;34m=\u001b[0m \u001b[0mratings\u001b[0m\u001b[0;34m[\u001b[0m\u001b[0;34m'movie_id'\u001b[0m\u001b[0;34m]\u001b[0m\u001b[0;34m.\u001b[0m\u001b[0mdrop_duplicates\u001b[0m\u001b[0;34m(\u001b[0m\u001b[0;34m)\u001b[0m\u001b[0;34m.\u001b[0m\u001b[0mmax\u001b[0m\u001b[0;34m(\u001b[0m\u001b[0;34m)\u001b[0m\u001b[0;34m\u001b[0m\u001b[0;34m\u001b[0m\u001b[0m\n\u001b[1;32m      4\u001b[0m \u001b[0;34m\u001b[0m\u001b[0m\n\u001b[1;32m      5\u001b[0m \u001b[0;31m# Reading ratings file\u001b[0m\u001b[0;34m\u001b[0m\u001b[0;34m\u001b[0m\u001b[0;34m\u001b[0m\u001b[0m\n",
            "\u001b[0;32m/usr/local/lib/python3.6/dist-packages/pandas/io/parsers.py\u001b[0m in \u001b[0;36mparser_f\u001b[0;34m(filepath_or_buffer, sep, delimiter, header, names, index_col, usecols, squeeze, prefix, mangle_dupe_cols, dtype, engine, converters, true_values, false_values, skipinitialspace, skiprows, skipfooter, nrows, na_values, keep_default_na, na_filter, verbose, skip_blank_lines, parse_dates, infer_datetime_format, keep_date_col, date_parser, dayfirst, iterator, chunksize, compression, thousands, decimal, lineterminator, quotechar, quoting, doublequote, escapechar, comment, encoding, dialect, tupleize_cols, error_bad_lines, warn_bad_lines, delim_whitespace, low_memory, memory_map, float_precision)\u001b[0m\n\u001b[1;32m    700\u001b[0m                     skip_blank_lines=skip_blank_lines)\n\u001b[1;32m    701\u001b[0m \u001b[0;34m\u001b[0m\u001b[0m\n\u001b[0;32m--> 702\u001b[0;31m         \u001b[0;32mreturn\u001b[0m \u001b[0m_read\u001b[0m\u001b[0;34m(\u001b[0m\u001b[0mfilepath_or_buffer\u001b[0m\u001b[0;34m,\u001b[0m \u001b[0mkwds\u001b[0m\u001b[0;34m)\u001b[0m\u001b[0;34m\u001b[0m\u001b[0;34m\u001b[0m\u001b[0m\n\u001b[0m\u001b[1;32m    703\u001b[0m \u001b[0;34m\u001b[0m\u001b[0m\n\u001b[1;32m    704\u001b[0m     \u001b[0mparser_f\u001b[0m\u001b[0;34m.\u001b[0m\u001b[0m__name__\u001b[0m \u001b[0;34m=\u001b[0m \u001b[0mname\u001b[0m\u001b[0;34m\u001b[0m\u001b[0;34m\u001b[0m\u001b[0m\n",
            "\u001b[0;32m/usr/local/lib/python3.6/dist-packages/pandas/io/parsers.py\u001b[0m in \u001b[0;36m_read\u001b[0;34m(filepath_or_buffer, kwds)\u001b[0m\n\u001b[1;32m    427\u001b[0m \u001b[0;34m\u001b[0m\u001b[0m\n\u001b[1;32m    428\u001b[0m     \u001b[0;31m# Create the parser.\u001b[0m\u001b[0;34m\u001b[0m\u001b[0;34m\u001b[0m\u001b[0;34m\u001b[0m\u001b[0m\n\u001b[0;32m--> 429\u001b[0;31m     \u001b[0mparser\u001b[0m \u001b[0;34m=\u001b[0m \u001b[0mTextFileReader\u001b[0m\u001b[0;34m(\u001b[0m\u001b[0mfilepath_or_buffer\u001b[0m\u001b[0;34m,\u001b[0m \u001b[0;34m**\u001b[0m\u001b[0mkwds\u001b[0m\u001b[0;34m)\u001b[0m\u001b[0;34m\u001b[0m\u001b[0;34m\u001b[0m\u001b[0m\n\u001b[0m\u001b[1;32m    430\u001b[0m \u001b[0;34m\u001b[0m\u001b[0m\n\u001b[1;32m    431\u001b[0m     \u001b[0;32mif\u001b[0m \u001b[0mchunksize\u001b[0m \u001b[0;32mor\u001b[0m \u001b[0miterator\u001b[0m\u001b[0;34m:\u001b[0m\u001b[0;34m\u001b[0m\u001b[0;34m\u001b[0m\u001b[0m\n",
            "\u001b[0;32m/usr/local/lib/python3.6/dist-packages/pandas/io/parsers.py\u001b[0m in \u001b[0;36m__init__\u001b[0;34m(self, f, engine, **kwds)\u001b[0m\n\u001b[1;32m    893\u001b[0m             \u001b[0mself\u001b[0m\u001b[0;34m.\u001b[0m\u001b[0moptions\u001b[0m\u001b[0;34m[\u001b[0m\u001b[0;34m'has_index_names'\u001b[0m\u001b[0;34m]\u001b[0m \u001b[0;34m=\u001b[0m \u001b[0mkwds\u001b[0m\u001b[0;34m[\u001b[0m\u001b[0;34m'has_index_names'\u001b[0m\u001b[0;34m]\u001b[0m\u001b[0;34m\u001b[0m\u001b[0;34m\u001b[0m\u001b[0m\n\u001b[1;32m    894\u001b[0m \u001b[0;34m\u001b[0m\u001b[0m\n\u001b[0;32m--> 895\u001b[0;31m         \u001b[0mself\u001b[0m\u001b[0;34m.\u001b[0m\u001b[0m_make_engine\u001b[0m\u001b[0;34m(\u001b[0m\u001b[0mself\u001b[0m\u001b[0;34m.\u001b[0m\u001b[0mengine\u001b[0m\u001b[0;34m)\u001b[0m\u001b[0;34m\u001b[0m\u001b[0;34m\u001b[0m\u001b[0m\n\u001b[0m\u001b[1;32m    896\u001b[0m \u001b[0;34m\u001b[0m\u001b[0m\n\u001b[1;32m    897\u001b[0m     \u001b[0;32mdef\u001b[0m \u001b[0mclose\u001b[0m\u001b[0;34m(\u001b[0m\u001b[0mself\u001b[0m\u001b[0;34m)\u001b[0m\u001b[0;34m:\u001b[0m\u001b[0;34m\u001b[0m\u001b[0;34m\u001b[0m\u001b[0m\n",
            "\u001b[0;32m/usr/local/lib/python3.6/dist-packages/pandas/io/parsers.py\u001b[0m in \u001b[0;36m_make_engine\u001b[0;34m(self, engine)\u001b[0m\n\u001b[1;32m   1120\u001b[0m     \u001b[0;32mdef\u001b[0m \u001b[0m_make_engine\u001b[0m\u001b[0;34m(\u001b[0m\u001b[0mself\u001b[0m\u001b[0;34m,\u001b[0m \u001b[0mengine\u001b[0m\u001b[0;34m=\u001b[0m\u001b[0;34m'c'\u001b[0m\u001b[0;34m)\u001b[0m\u001b[0;34m:\u001b[0m\u001b[0;34m\u001b[0m\u001b[0;34m\u001b[0m\u001b[0m\n\u001b[1;32m   1121\u001b[0m         \u001b[0;32mif\u001b[0m \u001b[0mengine\u001b[0m \u001b[0;34m==\u001b[0m \u001b[0;34m'c'\u001b[0m\u001b[0;34m:\u001b[0m\u001b[0;34m\u001b[0m\u001b[0;34m\u001b[0m\u001b[0m\n\u001b[0;32m-> 1122\u001b[0;31m             \u001b[0mself\u001b[0m\u001b[0;34m.\u001b[0m\u001b[0m_engine\u001b[0m \u001b[0;34m=\u001b[0m \u001b[0mCParserWrapper\u001b[0m\u001b[0;34m(\u001b[0m\u001b[0mself\u001b[0m\u001b[0;34m.\u001b[0m\u001b[0mf\u001b[0m\u001b[0;34m,\u001b[0m \u001b[0;34m**\u001b[0m\u001b[0mself\u001b[0m\u001b[0;34m.\u001b[0m\u001b[0moptions\u001b[0m\u001b[0;34m)\u001b[0m\u001b[0;34m\u001b[0m\u001b[0;34m\u001b[0m\u001b[0m\n\u001b[0m\u001b[1;32m   1123\u001b[0m         \u001b[0;32melse\u001b[0m\u001b[0;34m:\u001b[0m\u001b[0;34m\u001b[0m\u001b[0;34m\u001b[0m\u001b[0m\n\u001b[1;32m   1124\u001b[0m             \u001b[0;32mif\u001b[0m \u001b[0mengine\u001b[0m \u001b[0;34m==\u001b[0m \u001b[0;34m'python'\u001b[0m\u001b[0;34m:\u001b[0m\u001b[0;34m\u001b[0m\u001b[0;34m\u001b[0m\u001b[0m\n",
            "\u001b[0;32m/usr/local/lib/python3.6/dist-packages/pandas/io/parsers.py\u001b[0m in \u001b[0;36m__init__\u001b[0;34m(self, src, **kwds)\u001b[0m\n\u001b[1;32m   1851\u001b[0m         \u001b[0mkwds\u001b[0m\u001b[0;34m[\u001b[0m\u001b[0;34m'usecols'\u001b[0m\u001b[0;34m]\u001b[0m \u001b[0;34m=\u001b[0m \u001b[0mself\u001b[0m\u001b[0;34m.\u001b[0m\u001b[0musecols\u001b[0m\u001b[0;34m\u001b[0m\u001b[0;34m\u001b[0m\u001b[0m\n\u001b[1;32m   1852\u001b[0m \u001b[0;34m\u001b[0m\u001b[0m\n\u001b[0;32m-> 1853\u001b[0;31m         \u001b[0mself\u001b[0m\u001b[0;34m.\u001b[0m\u001b[0m_reader\u001b[0m \u001b[0;34m=\u001b[0m \u001b[0mparsers\u001b[0m\u001b[0;34m.\u001b[0m\u001b[0mTextReader\u001b[0m\u001b[0;34m(\u001b[0m\u001b[0msrc\u001b[0m\u001b[0;34m,\u001b[0m \u001b[0;34m**\u001b[0m\u001b[0mkwds\u001b[0m\u001b[0;34m)\u001b[0m\u001b[0;34m\u001b[0m\u001b[0;34m\u001b[0m\u001b[0m\n\u001b[0m\u001b[1;32m   1854\u001b[0m         \u001b[0mself\u001b[0m\u001b[0;34m.\u001b[0m\u001b[0munnamed_cols\u001b[0m \u001b[0;34m=\u001b[0m \u001b[0mself\u001b[0m\u001b[0;34m.\u001b[0m\u001b[0m_reader\u001b[0m\u001b[0;34m.\u001b[0m\u001b[0munnamed_cols\u001b[0m\u001b[0;34m\u001b[0m\u001b[0;34m\u001b[0m\u001b[0m\n\u001b[1;32m   1855\u001b[0m \u001b[0;34m\u001b[0m\u001b[0m\n",
            "\u001b[0;32mpandas/_libs/parsers.pyx\u001b[0m in \u001b[0;36mpandas._libs.parsers.TextReader.__cinit__\u001b[0;34m()\u001b[0m\n",
            "\u001b[0;32mpandas/_libs/parsers.pyx\u001b[0m in \u001b[0;36mpandas._libs.parsers.TextReader._setup_parser_source\u001b[0;34m()\u001b[0m\n",
            "\u001b[0;31mFileNotFoundError\u001b[0m: [Errno 2] File b'ratings.csv' does not exist: b'ratings.csv'"
          ]
        }
      ]
    },
    {
      "cell_type": "code",
      "metadata": {
        "id": "SWaQnQOvXqj3",
        "colab_type": "code",
        "outputId": "d706034a-a690-442d-8682-fcec4a0b8809",
        "colab": {
          "base_uri": "https://localhost:8080/",
          "height": 740
        }
      },
      "source": [
        ".# Create training set\n",
        "shuffled_ratings = ratings.sample(frac=1., random_state=42)\n",
        "\n",
        "# Shuffling users\n",
        "Users = shuffled_ratings['user_emb_id'].values\n",
        "print ('Users:', Users, ', shape =', Users.shape)\n",
        "\n",
        "# Shuffling movies\n",
        "Movies = shuffled_ratings['movie_emb_id'].values\n",
        "print ('Movies:', Movies, ', shape =', Movies.shape)\n",
        "\n",
        "# Shuffling ratings\n",
        "Ratings = shuffled_ratings['rating'].values\n",
        "print ('Ratings:', Ratings, ', shape =', Ratings.shape)\n"
      ],
      "execution_count": 0,
      "outputs": [
        {
          "output_type": "error",
          "ename": "KeyError",
          "evalue": "ignored",
          "traceback": [
            "\u001b[0;31m---------------------------------------------------------------------------\u001b[0m",
            "\u001b[0;31mKeyError\u001b[0m                                  Traceback (most recent call last)",
            "\u001b[0;32m/usr/local/lib/python3.6/dist-packages/pandas/core/indexes/base.py\u001b[0m in \u001b[0;36mget_loc\u001b[0;34m(self, key, method, tolerance)\u001b[0m\n\u001b[1;32m   2656\u001b[0m             \u001b[0;32mtry\u001b[0m\u001b[0;34m:\u001b[0m\u001b[0;34m\u001b[0m\u001b[0;34m\u001b[0m\u001b[0m\n\u001b[0;32m-> 2657\u001b[0;31m                 \u001b[0;32mreturn\u001b[0m \u001b[0mself\u001b[0m\u001b[0;34m.\u001b[0m\u001b[0m_engine\u001b[0m\u001b[0;34m.\u001b[0m\u001b[0mget_loc\u001b[0m\u001b[0;34m(\u001b[0m\u001b[0mkey\u001b[0m\u001b[0;34m)\u001b[0m\u001b[0;34m\u001b[0m\u001b[0;34m\u001b[0m\u001b[0m\n\u001b[0m\u001b[1;32m   2658\u001b[0m             \u001b[0;32mexcept\u001b[0m \u001b[0mKeyError\u001b[0m\u001b[0;34m:\u001b[0m\u001b[0;34m\u001b[0m\u001b[0;34m\u001b[0m\u001b[0m\n",
            "\u001b[0;32mpandas/_libs/index.pyx\u001b[0m in \u001b[0;36mpandas._libs.index.IndexEngine.get_loc\u001b[0;34m()\u001b[0m\n",
            "\u001b[0;32mpandas/_libs/index.pyx\u001b[0m in \u001b[0;36mpandas._libs.index.IndexEngine.get_loc\u001b[0;34m()\u001b[0m\n",
            "\u001b[0;32mpandas/_libs/hashtable_class_helper.pxi\u001b[0m in \u001b[0;36mpandas._libs.hashtable.PyObjectHashTable.get_item\u001b[0;34m()\u001b[0m\n",
            "\u001b[0;32mpandas/_libs/hashtable_class_helper.pxi\u001b[0m in \u001b[0;36mpandas._libs.hashtable.PyObjectHashTable.get_item\u001b[0;34m()\u001b[0m\n",
            "\u001b[0;31mKeyError\u001b[0m: 'user_emb_id'",
            "\nDuring handling of the above exception, another exception occurred:\n",
            "\u001b[0;31mKeyError\u001b[0m                                  Traceback (most recent call last)",
            "\u001b[0;32m<ipython-input-132-d37381f52156>\u001b[0m in \u001b[0;36m<module>\u001b[0;34m()\u001b[0m\n\u001b[1;32m      2\u001b[0m \u001b[0;34m\u001b[0m\u001b[0m\n\u001b[1;32m      3\u001b[0m \u001b[0;31m# Shuffling users\u001b[0m\u001b[0;34m\u001b[0m\u001b[0;34m\u001b[0m\u001b[0;34m\u001b[0m\u001b[0m\n\u001b[0;32m----> 4\u001b[0;31m \u001b[0mUsers\u001b[0m \u001b[0;34m=\u001b[0m \u001b[0mshuffled_ratings\u001b[0m\u001b[0;34m[\u001b[0m\u001b[0;34m'user_emb_id'\u001b[0m\u001b[0;34m]\u001b[0m\u001b[0;34m.\u001b[0m\u001b[0mvalues\u001b[0m\u001b[0;34m\u001b[0m\u001b[0;34m\u001b[0m\u001b[0m\n\u001b[0m\u001b[1;32m      5\u001b[0m \u001b[0mprint\u001b[0m \u001b[0;34m(\u001b[0m\u001b[0;34m'Users:'\u001b[0m\u001b[0;34m,\u001b[0m \u001b[0mUsers\u001b[0m\u001b[0;34m,\u001b[0m \u001b[0;34m', shape ='\u001b[0m\u001b[0;34m,\u001b[0m \u001b[0mUsers\u001b[0m\u001b[0;34m.\u001b[0m\u001b[0mshape\u001b[0m\u001b[0;34m)\u001b[0m\u001b[0;34m\u001b[0m\u001b[0;34m\u001b[0m\u001b[0m\n\u001b[1;32m      6\u001b[0m \u001b[0;34m\u001b[0m\u001b[0m\n",
            "\u001b[0;32m/usr/local/lib/python3.6/dist-packages/pandas/core/frame.py\u001b[0m in \u001b[0;36m__getitem__\u001b[0;34m(self, key)\u001b[0m\n\u001b[1;32m   2925\u001b[0m             \u001b[0;32mif\u001b[0m \u001b[0mself\u001b[0m\u001b[0;34m.\u001b[0m\u001b[0mcolumns\u001b[0m\u001b[0;34m.\u001b[0m\u001b[0mnlevels\u001b[0m \u001b[0;34m>\u001b[0m \u001b[0;36m1\u001b[0m\u001b[0;34m:\u001b[0m\u001b[0;34m\u001b[0m\u001b[0;34m\u001b[0m\u001b[0m\n\u001b[1;32m   2926\u001b[0m                 \u001b[0;32mreturn\u001b[0m \u001b[0mself\u001b[0m\u001b[0;34m.\u001b[0m\u001b[0m_getitem_multilevel\u001b[0m\u001b[0;34m(\u001b[0m\u001b[0mkey\u001b[0m\u001b[0;34m)\u001b[0m\u001b[0;34m\u001b[0m\u001b[0;34m\u001b[0m\u001b[0m\n\u001b[0;32m-> 2927\u001b[0;31m             \u001b[0mindexer\u001b[0m \u001b[0;34m=\u001b[0m \u001b[0mself\u001b[0m\u001b[0;34m.\u001b[0m\u001b[0mcolumns\u001b[0m\u001b[0;34m.\u001b[0m\u001b[0mget_loc\u001b[0m\u001b[0;34m(\u001b[0m\u001b[0mkey\u001b[0m\u001b[0;34m)\u001b[0m\u001b[0;34m\u001b[0m\u001b[0;34m\u001b[0m\u001b[0m\n\u001b[0m\u001b[1;32m   2928\u001b[0m             \u001b[0;32mif\u001b[0m \u001b[0mis_integer\u001b[0m\u001b[0;34m(\u001b[0m\u001b[0mindexer\u001b[0m\u001b[0;34m)\u001b[0m\u001b[0;34m:\u001b[0m\u001b[0;34m\u001b[0m\u001b[0;34m\u001b[0m\u001b[0m\n\u001b[1;32m   2929\u001b[0m                 \u001b[0mindexer\u001b[0m \u001b[0;34m=\u001b[0m \u001b[0;34m[\u001b[0m\u001b[0mindexer\u001b[0m\u001b[0;34m]\u001b[0m\u001b[0;34m\u001b[0m\u001b[0;34m\u001b[0m\u001b[0m\n",
            "\u001b[0;32m/usr/local/lib/python3.6/dist-packages/pandas/core/indexes/base.py\u001b[0m in \u001b[0;36mget_loc\u001b[0;34m(self, key, method, tolerance)\u001b[0m\n\u001b[1;32m   2657\u001b[0m                 \u001b[0;32mreturn\u001b[0m \u001b[0mself\u001b[0m\u001b[0;34m.\u001b[0m\u001b[0m_engine\u001b[0m\u001b[0;34m.\u001b[0m\u001b[0mget_loc\u001b[0m\u001b[0;34m(\u001b[0m\u001b[0mkey\u001b[0m\u001b[0;34m)\u001b[0m\u001b[0;34m\u001b[0m\u001b[0;34m\u001b[0m\u001b[0m\n\u001b[1;32m   2658\u001b[0m             \u001b[0;32mexcept\u001b[0m \u001b[0mKeyError\u001b[0m\u001b[0;34m:\u001b[0m\u001b[0;34m\u001b[0m\u001b[0;34m\u001b[0m\u001b[0m\n\u001b[0;32m-> 2659\u001b[0;31m                 \u001b[0;32mreturn\u001b[0m \u001b[0mself\u001b[0m\u001b[0;34m.\u001b[0m\u001b[0m_engine\u001b[0m\u001b[0;34m.\u001b[0m\u001b[0mget_loc\u001b[0m\u001b[0;34m(\u001b[0m\u001b[0mself\u001b[0m\u001b[0;34m.\u001b[0m\u001b[0m_maybe_cast_indexer\u001b[0m\u001b[0;34m(\u001b[0m\u001b[0mkey\u001b[0m\u001b[0;34m)\u001b[0m\u001b[0;34m)\u001b[0m\u001b[0;34m\u001b[0m\u001b[0;34m\u001b[0m\u001b[0m\n\u001b[0m\u001b[1;32m   2660\u001b[0m         \u001b[0mindexer\u001b[0m \u001b[0;34m=\u001b[0m \u001b[0mself\u001b[0m\u001b[0;34m.\u001b[0m\u001b[0mget_indexer\u001b[0m\u001b[0;34m(\u001b[0m\u001b[0;34m[\u001b[0m\u001b[0mkey\u001b[0m\u001b[0;34m]\u001b[0m\u001b[0;34m,\u001b[0m \u001b[0mmethod\u001b[0m\u001b[0;34m=\u001b[0m\u001b[0mmethod\u001b[0m\u001b[0;34m,\u001b[0m \u001b[0mtolerance\u001b[0m\u001b[0;34m=\u001b[0m\u001b[0mtolerance\u001b[0m\u001b[0;34m)\u001b[0m\u001b[0;34m\u001b[0m\u001b[0;34m\u001b[0m\u001b[0m\n\u001b[1;32m   2661\u001b[0m         \u001b[0;32mif\u001b[0m \u001b[0mindexer\u001b[0m\u001b[0;34m.\u001b[0m\u001b[0mndim\u001b[0m \u001b[0;34m>\u001b[0m \u001b[0;36m1\u001b[0m \u001b[0;32mor\u001b[0m \u001b[0mindexer\u001b[0m\u001b[0;34m.\u001b[0m\u001b[0msize\u001b[0m \u001b[0;34m>\u001b[0m \u001b[0;36m1\u001b[0m\u001b[0;34m:\u001b[0m\u001b[0;34m\u001b[0m\u001b[0;34m\u001b[0m\u001b[0m\n",
            "\u001b[0;32mpandas/_libs/index.pyx\u001b[0m in \u001b[0;36mpandas._libs.index.IndexEngine.get_loc\u001b[0;34m()\u001b[0m\n",
            "\u001b[0;32mpandas/_libs/index.pyx\u001b[0m in \u001b[0;36mpandas._libs.index.IndexEngine.get_loc\u001b[0;34m()\u001b[0m\n",
            "\u001b[0;32mpandas/_libs/hashtable_class_helper.pxi\u001b[0m in \u001b[0;36mpandas._libs.hashtable.PyObjectHashTable.get_item\u001b[0;34m()\u001b[0m\n",
            "\u001b[0;32mpandas/_libs/hashtable_class_helper.pxi\u001b[0m in \u001b[0;36mpandas._libs.hashtable.PyObjectHashTable.get_item\u001b[0;34m()\u001b[0m\n",
            "\u001b[0;31mKeyError\u001b[0m: 'user_emb_id'"
          ]
        }
      ]
    }
  ]
}